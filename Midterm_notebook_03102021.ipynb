{
 "cells": [
  {
   "cell_type": "markdown",
   "metadata": {},
   "source": [
    "<h1> Classification Problem, Heart Disease - WIP (change name?) </h1>"
   ]
  },
  {
   "cell_type": "code",
   "execution_count": 1,
   "metadata": {},
   "outputs": [],
   "source": [
    "import pandas as pd\n",
    "import numpy as np\n",
    "import matplotlib\n",
    "import matplotlib.pyplot as plt\n",
    "import matplotlib.cm as cm\n",
    "import seaborn as sns\n",
    "\n",
    "%matplotlib inline\n",
    "\n",
    "data = pd.read_csv('C:/Users/ander/Programmering/heart.csv')\n",
    "#data = pd.read_csv('C:\\\\Users\\\\Tim\\\\Desktop\\\\Hearth disease analysis\\\\input\\\\heart.csv')"
   ]
  },
  {
   "cell_type": "markdown",
   "metadata": {},
   "source": [
    "<h2> Feature wordlist  </h2>\n",
    "\n",
    "* __age:__ The person's age in years <br>\n",
    "* __sex:__ The person's sex (1 = male, 0 = female) <br>\n",
    "* __cp:__ The chest pain experienced (Value 1: typical angina, Value 2: atypical     angina, Value 3: non-anginal pain, Value 4: asymptomatic) <br>\n",
    "* __trestbps:__ The person's resting blood pressure (mm Hg on admission to the hospital) <br>\n",
    "* __chol:__ The person's cholesterol measurement in mg/dl <br>\n",
    "* __fbs:__ The person's fasting blood sugar (> 120 mg/dl, 1 = true; 0 = false) <br>\n",
    "* __restecg:__ Resting electrocardiographic measurement (0 = normal, 1 = having ST-T wave  abnormality, 2 = showing probable or definite left ventricular hypertrophy by Estes' criteria) <br>\n",
    "* __thalach:__ The person's maximum heart rate achieved <br>\n",
    "* __exang:__ Exercise induced angina (1 = yes; 0 = no) <br>\n",
    "* __oldpeak:__ ST depression induced by exercise relative to rest ('ST' relates to positions on the ECG plot. See more here) <br>\n",
    "* __slope:__ The slope of the peak exercise ST segment (Value 1: upsloping, Value 2: flat, Value 3: downsloping) <br>\n",
    "* __ca:__ The number of major vessels (0-3) <br>\n",
    "* __thal:__ A blood disorder called thalassemia (3 = normal; 6 = fixed defect; 7 = reversable defect) <br>\n",
    "* __target:__ Heart disease (0 = no, 1 = yes)"
   ]
  },
  {
   "cell_type": "markdown",
   "metadata": {},
   "source": [
    "<h2> Data Pre-Processing </h2>"
   ]
  },
  {
   "cell_type": "markdown",
   "metadata": {},
   "source": [
    "### Inspecting the data\n",
    "\n",
    "After importing some helpful libraries and loading in our dataset we want to inspect our data."
   ]
  },
  {
   "cell_type": "code",
   "execution_count": 2,
   "metadata": {
    "scrolled": true
   },
   "outputs": [
    {
     "data": {
      "text/html": [
       "<div>\n",
       "<style scoped>\n",
       "    .dataframe tbody tr th:only-of-type {\n",
       "        vertical-align: middle;\n",
       "    }\n",
       "\n",
       "    .dataframe tbody tr th {\n",
       "        vertical-align: top;\n",
       "    }\n",
       "\n",
       "    .dataframe thead th {\n",
       "        text-align: right;\n",
       "    }\n",
       "</style>\n",
       "<table border=\"1\" class=\"dataframe\">\n",
       "  <thead>\n",
       "    <tr style=\"text-align: right;\">\n",
       "      <th></th>\n",
       "      <th>age</th>\n",
       "      <th>sex</th>\n",
       "      <th>cp</th>\n",
       "      <th>trestbps</th>\n",
       "      <th>chol</th>\n",
       "      <th>fbs</th>\n",
       "      <th>restecg</th>\n",
       "      <th>thalach</th>\n",
       "      <th>exang</th>\n",
       "      <th>oldpeak</th>\n",
       "      <th>slope</th>\n",
       "      <th>ca</th>\n",
       "      <th>thal</th>\n",
       "      <th>target</th>\n",
       "    </tr>\n",
       "  </thead>\n",
       "  <tbody>\n",
       "    <tr>\n",
       "      <th>0</th>\n",
       "      <td>52</td>\n",
       "      <td>1</td>\n",
       "      <td>0</td>\n",
       "      <td>125</td>\n",
       "      <td>212</td>\n",
       "      <td>0</td>\n",
       "      <td>1</td>\n",
       "      <td>168</td>\n",
       "      <td>0</td>\n",
       "      <td>1.0</td>\n",
       "      <td>2</td>\n",
       "      <td>2</td>\n",
       "      <td>3</td>\n",
       "      <td>0</td>\n",
       "    </tr>\n",
       "    <tr>\n",
       "      <th>1</th>\n",
       "      <td>53</td>\n",
       "      <td>1</td>\n",
       "      <td>0</td>\n",
       "      <td>140</td>\n",
       "      <td>203</td>\n",
       "      <td>1</td>\n",
       "      <td>0</td>\n",
       "      <td>155</td>\n",
       "      <td>1</td>\n",
       "      <td>3.1</td>\n",
       "      <td>0</td>\n",
       "      <td>0</td>\n",
       "      <td>3</td>\n",
       "      <td>0</td>\n",
       "    </tr>\n",
       "    <tr>\n",
       "      <th>2</th>\n",
       "      <td>70</td>\n",
       "      <td>1</td>\n",
       "      <td>0</td>\n",
       "      <td>145</td>\n",
       "      <td>174</td>\n",
       "      <td>0</td>\n",
       "      <td>1</td>\n",
       "      <td>125</td>\n",
       "      <td>1</td>\n",
       "      <td>2.6</td>\n",
       "      <td>0</td>\n",
       "      <td>0</td>\n",
       "      <td>3</td>\n",
       "      <td>0</td>\n",
       "    </tr>\n",
       "    <tr>\n",
       "      <th>3</th>\n",
       "      <td>61</td>\n",
       "      <td>1</td>\n",
       "      <td>0</td>\n",
       "      <td>148</td>\n",
       "      <td>203</td>\n",
       "      <td>0</td>\n",
       "      <td>1</td>\n",
       "      <td>161</td>\n",
       "      <td>0</td>\n",
       "      <td>0.0</td>\n",
       "      <td>2</td>\n",
       "      <td>1</td>\n",
       "      <td>3</td>\n",
       "      <td>0</td>\n",
       "    </tr>\n",
       "    <tr>\n",
       "      <th>4</th>\n",
       "      <td>62</td>\n",
       "      <td>0</td>\n",
       "      <td>0</td>\n",
       "      <td>138</td>\n",
       "      <td>294</td>\n",
       "      <td>1</td>\n",
       "      <td>1</td>\n",
       "      <td>106</td>\n",
       "      <td>0</td>\n",
       "      <td>1.9</td>\n",
       "      <td>1</td>\n",
       "      <td>3</td>\n",
       "      <td>2</td>\n",
       "      <td>0</td>\n",
       "    </tr>\n",
       "  </tbody>\n",
       "</table>\n",
       "</div>"
      ],
      "text/plain": [
       "   age  sex  cp  trestbps  chol  fbs  restecg  thalach  exang  oldpeak  slope  \\\n",
       "0   52    1   0       125   212    0        1      168      0      1.0      2   \n",
       "1   53    1   0       140   203    1        0      155      1      3.1      0   \n",
       "2   70    1   0       145   174    0        1      125      1      2.6      0   \n",
       "3   61    1   0       148   203    0        1      161      0      0.0      2   \n",
       "4   62    0   0       138   294    1        1      106      0      1.9      1   \n",
       "\n",
       "   ca  thal  target  \n",
       "0   2     3       0  \n",
       "1   0     3       0  \n",
       "2   0     3       0  \n",
       "3   1     3       0  \n",
       "4   3     2       0  "
      ]
     },
     "execution_count": 2,
     "metadata": {},
     "output_type": "execute_result"
    }
   ],
   "source": [
    "data.head()"
   ]
  },
  {
   "cell_type": "code",
   "execution_count": 3,
   "metadata": {},
   "outputs": [
    {
     "data": {
      "text/plain": [
       "(1025, 14)"
      ]
     },
     "execution_count": 3,
     "metadata": {},
     "output_type": "execute_result"
    }
   ],
   "source": [
    "data.shape"
   ]
  },
  {
   "cell_type": "code",
   "execution_count": 4,
   "metadata": {
    "scrolled": true
   },
   "outputs": [
    {
     "data": {
      "text/plain": [
       "age         0\n",
       "sex         0\n",
       "cp          0\n",
       "trestbps    0\n",
       "chol        0\n",
       "fbs         0\n",
       "restecg     0\n",
       "thalach     0\n",
       "exang       0\n",
       "oldpeak     0\n",
       "slope       0\n",
       "ca          0\n",
       "thal        0\n",
       "target      0\n",
       "dtype: int64"
      ]
     },
     "execution_count": 4,
     "metadata": {},
     "output_type": "execute_result"
    }
   ],
   "source": [
    "data.isnull().sum()"
   ]
  },
  {
   "cell_type": "code",
   "execution_count": 5,
   "metadata": {
    "scrolled": false
   },
   "outputs": [
    {
     "data": {
      "text/html": [
       "<div>\n",
       "<style scoped>\n",
       "    .dataframe tbody tr th:only-of-type {\n",
       "        vertical-align: middle;\n",
       "    }\n",
       "\n",
       "    .dataframe tbody tr th {\n",
       "        vertical-align: top;\n",
       "    }\n",
       "\n",
       "    .dataframe thead th {\n",
       "        text-align: right;\n",
       "    }\n",
       "</style>\n",
       "<table border=\"1\" class=\"dataframe\">\n",
       "  <thead>\n",
       "    <tr style=\"text-align: right;\">\n",
       "      <th></th>\n",
       "      <th>target</th>\n",
       "    </tr>\n",
       "  </thead>\n",
       "  <tbody>\n",
       "    <tr>\n",
       "      <th>1</th>\n",
       "      <td>526</td>\n",
       "    </tr>\n",
       "    <tr>\n",
       "      <th>0</th>\n",
       "      <td>499</td>\n",
       "    </tr>\n",
       "  </tbody>\n",
       "</table>\n",
       "</div>"
      ],
      "text/plain": [
       "   target\n",
       "1     526\n",
       "0     499"
      ]
     },
     "execution_count": 5,
     "metadata": {},
     "output_type": "execute_result"
    }
   ],
   "source": [
    "pd.DataFrame(data['target'].value_counts())"
   ]
  },
  {
   "cell_type": "markdown",
   "metadata": {},
   "source": [
    "We take a peak at the first 5 rows of the dataset, look at its shape (amount of (rows, columns)), check if there are any null values in the dataset and finally we look at the distribution between patients classified as having a heart disease (1) and not having a heart disease (0).\n",
    "\n",
    "_________________________________________________\n",
    "\n",
    "We rename some of the columns to make it easier for us to remember what they refer to. (In the beginning of the notebook we provided a more thorough explanation for what each column stands for)"
   ]
  },
  {
   "cell_type": "code",
   "execution_count": 6,
   "metadata": {},
   "outputs": [
    {
     "data": {
      "text/html": [
       "<div>\n",
       "<style scoped>\n",
       "    .dataframe tbody tr th:only-of-type {\n",
       "        vertical-align: middle;\n",
       "    }\n",
       "\n",
       "    .dataframe tbody tr th {\n",
       "        vertical-align: top;\n",
       "    }\n",
       "\n",
       "    .dataframe thead th {\n",
       "        text-align: right;\n",
       "    }\n",
       "</style>\n",
       "<table border=\"1\" class=\"dataframe\">\n",
       "  <thead>\n",
       "    <tr style=\"text-align: right;\">\n",
       "      <th></th>\n",
       "      <th>age</th>\n",
       "      <th>gender</th>\n",
       "      <th>chest_pain</th>\n",
       "      <th>rest_bp</th>\n",
       "      <th>cholestrol</th>\n",
       "      <th>fst_bs</th>\n",
       "      <th>rest_ecg</th>\n",
       "      <th>max_heart_rate</th>\n",
       "      <th>ex_angina</th>\n",
       "      <th>oldpeak</th>\n",
       "      <th>slope</th>\n",
       "      <th>color_vsl</th>\n",
       "      <th>thal</th>\n",
       "      <th>target</th>\n",
       "    </tr>\n",
       "  </thead>\n",
       "  <tbody>\n",
       "    <tr>\n",
       "      <th>0</th>\n",
       "      <td>52</td>\n",
       "      <td>1</td>\n",
       "      <td>0</td>\n",
       "      <td>125</td>\n",
       "      <td>212</td>\n",
       "      <td>0</td>\n",
       "      <td>1</td>\n",
       "      <td>168</td>\n",
       "      <td>0</td>\n",
       "      <td>1.0</td>\n",
       "      <td>2</td>\n",
       "      <td>2</td>\n",
       "      <td>3</td>\n",
       "      <td>0</td>\n",
       "    </tr>\n",
       "    <tr>\n",
       "      <th>1</th>\n",
       "      <td>53</td>\n",
       "      <td>1</td>\n",
       "      <td>0</td>\n",
       "      <td>140</td>\n",
       "      <td>203</td>\n",
       "      <td>1</td>\n",
       "      <td>0</td>\n",
       "      <td>155</td>\n",
       "      <td>1</td>\n",
       "      <td>3.1</td>\n",
       "      <td>0</td>\n",
       "      <td>0</td>\n",
       "      <td>3</td>\n",
       "      <td>0</td>\n",
       "    </tr>\n",
       "    <tr>\n",
       "      <th>2</th>\n",
       "      <td>70</td>\n",
       "      <td>1</td>\n",
       "      <td>0</td>\n",
       "      <td>145</td>\n",
       "      <td>174</td>\n",
       "      <td>0</td>\n",
       "      <td>1</td>\n",
       "      <td>125</td>\n",
       "      <td>1</td>\n",
       "      <td>2.6</td>\n",
       "      <td>0</td>\n",
       "      <td>0</td>\n",
       "      <td>3</td>\n",
       "      <td>0</td>\n",
       "    </tr>\n",
       "    <tr>\n",
       "      <th>3</th>\n",
       "      <td>61</td>\n",
       "      <td>1</td>\n",
       "      <td>0</td>\n",
       "      <td>148</td>\n",
       "      <td>203</td>\n",
       "      <td>0</td>\n",
       "      <td>1</td>\n",
       "      <td>161</td>\n",
       "      <td>0</td>\n",
       "      <td>0.0</td>\n",
       "      <td>2</td>\n",
       "      <td>1</td>\n",
       "      <td>3</td>\n",
       "      <td>0</td>\n",
       "    </tr>\n",
       "    <tr>\n",
       "      <th>4</th>\n",
       "      <td>62</td>\n",
       "      <td>0</td>\n",
       "      <td>0</td>\n",
       "      <td>138</td>\n",
       "      <td>294</td>\n",
       "      <td>1</td>\n",
       "      <td>1</td>\n",
       "      <td>106</td>\n",
       "      <td>0</td>\n",
       "      <td>1.9</td>\n",
       "      <td>1</td>\n",
       "      <td>3</td>\n",
       "      <td>2</td>\n",
       "      <td>0</td>\n",
       "    </tr>\n",
       "  </tbody>\n",
       "</table>\n",
       "</div>"
      ],
      "text/plain": [
       "   age  gender  chest_pain  rest_bp  cholestrol  fst_bs  rest_ecg  \\\n",
       "0   52       1           0      125         212       0         1   \n",
       "1   53       1           0      140         203       1         0   \n",
       "2   70       1           0      145         174       0         1   \n",
       "3   61       1           0      148         203       0         1   \n",
       "4   62       0           0      138         294       1         1   \n",
       "\n",
       "   max_heart_rate  ex_angina  oldpeak  slope  color_vsl  thal  target  \n",
       "0             168          0      1.0      2          2     3       0  \n",
       "1             155          1      3.1      0          0     3       0  \n",
       "2             125          1      2.6      0          0     3       0  \n",
       "3             161          0      0.0      2          1     3       0  \n",
       "4             106          0      1.9      1          3     2       0  "
      ]
     },
     "execution_count": 6,
     "metadata": {},
     "output_type": "execute_result"
    }
   ],
   "source": [
    "features = ['age', 'gender', 'chest_pain', 'rest_bp', 'cholestrol', 'fst_bs', 'rest_ecg', 'max_heart_rate', \n",
    "            'ex_angina', 'oldpeak', 'slope', 'color_vsl', 'thal', 'target']\n",
    "data.columns = features\n",
    "data.head()"
   ]
  },
  {
   "cell_type": "markdown",
   "metadata": {},
   "source": [
    "## Data exploration\n",
    "\n",
    "To make sense of the data set we need to look into a few different things like age, gender distribution and heart rate groups."
   ]
  },
  {
   "cell_type": "markdown",
   "metadata": {},
   "source": [
    "age distribution\n",
    "gender distribution\n",
    "max heart rate groupings\n",
    "\n",
    "gender distribution  between heart disease vs no heart disease\n",
    "diabetes? (high BP, low BP)"
   ]
  },
  {
   "cell_type": "code",
   "execution_count": 7,
   "metadata": {},
   "outputs": [],
   "source": [
    "palette = \"colorblind\" # palette to use in plots/graphs "
   ]
  },
  {
   "cell_type": "markdown",
   "metadata": {},
   "source": [
    "We had a quick look at the distribution between patients classified as having a heart disease and not having a heart disease in numerical values above. However it is often easier to understand data visually so lets make a graph of it instead."
   ]
  },
  {
   "cell_type": "code",
   "execution_count": 8,
   "metadata": {
    "scrolled": true
   },
   "outputs": [
    {
     "data": {
      "image/png": "[encoded data removed]",
      "text/plain": [
       "<Figure size 432x288 with 1 Axes>"
      ]
     },
     "metadata": {
      "needs_background": "light"
     },
     "output_type": "display_data"
    },
    {
     "name": "stdout",
     "output_type": "stream",
     "text": [
      "Persentage of patients without heart disease: 48.68%\n",
      "Persentage of patients with heart disease: 51.32%\n"
     ]
    }
   ],
   "source": [
    "sns.countplot(x=\"target\", edgecolor=(0,0,0), linewidth=1, data=data, palette=palette)\n",
    "plt.title(\"Patients with or without heart disease\")\n",
    "plt.xlabel(\"0 = no, 1 = yes\")\n",
    "plt.show()\n",
    "\n",
    "\n",
    "noDisease = len(data[data.target==0]) #count lenght of the dataframe where target = 0\n",
    "haveDisease = len(data[data.target==1])\n",
    "print(\"Persentage of patients without heart disease: {:.2f}%\".format((noDisease/len(data.target))*100))\n",
    "print(\"Persentage of patients with heart disease: {:.2f}%\".format((haveDisease/len(data.target))*100))"
   ]
  },
  {
   "cell_type": "markdown",
   "metadata": {},
   "source": [
    "We have a fairly even spread between patients with and without heart disease among our 1024 patients. Let us see how the patients are spread between the genders."
   ]
  },
  {
   "cell_type": "markdown",
   "metadata": {},
   "source": [
    "### Gender spread between patients"
   ]
  },
  {
   "cell_type": "code",
   "execution_count": 9,
   "metadata": {
    "scrolled": false
   },
   "outputs": [
    {
     "name": "stdout",
     "output_type": "stream",
     "text": [
      "Female patients: \n"
     ]
    },
    {
     "data": {
      "text/plain": [
       "1    226\n",
       "0     86\n",
       "Name: target, dtype: int64"
      ]
     },
     "execution_count": 9,
     "metadata": {},
     "output_type": "execute_result"
    }
   ],
   "source": [
    "print(\"Female patients: \")\n",
    "data.target[data.gender == 0].value_counts()"
   ]
  },
  {
   "cell_type": "code",
   "execution_count": 10,
   "metadata": {},
   "outputs": [
    {
     "name": "stdout",
     "output_type": "stream",
     "text": [
      "Persentage of female patients with a heart disease: 72.44%\n"
     ]
    }
   ],
   "source": [
    "femalePatientWithDisease = len(data[(data.target == 1)&(data.gender == 0)])\n",
    "print(\"Persentage of female patients with a heart disease: {:.2f}%\"\n",
    "      .format((femalePatientWithDisease/len(data[data.gender == 0]))*100))"
   ]
  },
  {
   "cell_type": "code",
   "execution_count": 11,
   "metadata": {
    "scrolled": true
   },
   "outputs": [
    {
     "name": "stdout",
     "output_type": "stream",
     "text": [
      "Male patients: \n"
     ]
    },
    {
     "data": {
      "text/plain": [
       "1    300\n",
       "0    413\n",
       "Name: target, dtype: int64"
      ]
     },
     "execution_count": 11,
     "metadata": {},
     "output_type": "execute_result"
    }
   ],
   "source": [
    "print(\"Male patients: \")\n",
    "data.target[data.gender == 1].value_counts().sort_values(ascending=True)"
   ]
  },
  {
   "cell_type": "code",
   "execution_count": 12,
   "metadata": {},
   "outputs": [
    {
     "name": "stdout",
     "output_type": "stream",
     "text": [
      "Persentage of male patients with a heart disease: 42.08%\n"
     ]
    }
   ],
   "source": [
    "malePatientWithDisease = len(data[(data.target == 1)&(data.gender == 1)])\n",
    "print(\"Persentage of male patients with a heart disease: {:.2f}%\"\n",
    "      .format((malePatientWithDisease/len(data[data.gender == 1]))*100))"
   ]
  },
  {
   "cell_type": "markdown",
   "metadata": {},
   "source": [
    "While the majority of our patients in the data set are male we have an overrepresentation of female patients with heart disease. Again, following is a graph of what we just saw numerically.\n",
    "____________________\n",
    "\n",
    "Gender:\n",
    "0 = female patients, 1 = male patients"
   ]
  },
  {
   "cell_type": "code",
   "execution_count": 13,
   "metadata": {},
   "outputs": [
    {
     "data": {
      "image/png": "[encoded data removed]",
      "text/plain": [
       "<Figure size 403.5x360 with 1 Axes>"
      ]
     },
     "metadata": {
      "needs_background": "light"
     },
     "output_type": "display_data"
    }
   ],
   "source": [
    "sns.catplot(x=\"target\", edgecolor=(0,0,0), linewidth=1, kind=\"count\",hue = 'gender', palette=palette, data=data)\n",
    "plt.xlabel(\"0 = no disease, 1 = disease\")\n",
    "plt.title(\"Number of female/male patiens with/without disease\")\n",
    "plt.show()"
   ]
  },
  {
   "cell_type": "markdown",
   "metadata": {},
   "source": [
    "### Age range of patients\n",
    "\n",
    "Looking at the above graphs it seems to be the case that females are at a higher risk of having a heart disease. Let us see how age affects the patients."
   ]
  },
  {
   "cell_type": "code",
   "execution_count": 14,
   "metadata": {},
   "outputs": [
    {
     "data": {
      "image/png": "[encoded data removed]",
      "text/plain": [
       "<Figure size 864x360 with 1 Axes>"
      ]
     },
     "metadata": {
      "needs_background": "light"
     },
     "output_type": "display_data"
    }
   ],
   "source": [
    "plt.figure(figsize=(12,5))\n",
    "plt.title(\"Distribution of age(all patients)\")\n",
    "sns.histplot(data[\"age\"])\n",
    "plt.show()"
   ]
  },
  {
   "cell_type": "markdown",
   "metadata": {},
   "source": [
    "Looking at the age distribution we see that a majority of the patients are in the age range of 55 - 65. What ages are the patients in if they are diagnosed with a heart disease?"
   ]
  },
  {
   "cell_type": "code",
   "execution_count": 15,
   "metadata": {},
   "outputs": [
    {
     "data": {
      "image/png": "[encoded data removed]",
      "text/plain": [
       "<Figure size 1440x432 with 1 Axes>"
      ]
     },
     "metadata": {
      "needs_background": "light"
     },
     "output_type": "display_data"
    }
   ],
   "source": [
    "pd.crosstab(data.age, data.target).plot(kind=\"bar\", figsize=(20,6))\n",
    "plt.title('Heart disease frequency for Ages')\n",
    "plt.xlabel('Age')\n",
    "plt.ylabel('Frequency')\n",
    "plt.show()"
   ]
  },
  {
   "cell_type": "markdown",
   "metadata": {},
   "source": [
    "It looks like we have a group of patients around 40-45 years old and a group around 51-54 with some minor spikes at 58 and 64. A majority of the patients getting checked around the sixties are not diagnosed with a heart disease.\n",
    "________________\n",
    "Let us have a look at what age ranges the patients are in and also what ages heart diseases are more prominent."
   ]
  },
  {
   "cell_type": "code",
   "execution_count": 16,
   "metadata": {},
   "outputs": [
    {
     "data": {
      "text/plain": [
       "<AxesSubplot:title={'center':'Male ages(with a heart disease)'}, xlabel='age', ylabel='Count'>"
      ]
     },
     "execution_count": 16,
     "metadata": {},
     "output_type": "execute_result"
    },
    {
     "data": {
      "image/png": "[encoded data removed]",
      "text/plain": [
       "<Figure size 1800x720 with 4 Axes>"
      ]
     },
     "metadata": {
      "needs_background": "light"
     },
     "output_type": "display_data"
    }
   ],
   "source": [
    "femaleAges = data.age[data.gender == 0]\n",
    "femaleAgesWithDisease = data.age[(data.gender == 0) & (data.target == 1)]\n",
    "\n",
    "maleAges = data.age[data.gender == 1]\n",
    "maleAgesWithDisease = data.age[(data.gender == 1) & (data.target == 1)]\n",
    "\n",
    "\n",
    "fig, axes = plt.subplots(2, 2, sharex=True, figsize=(25,10))\n",
    "fig.suptitle('Ages')\n",
    "\n",
    "#female ages\n",
    "axes[0,0].set_title('Female ages')\n",
    "axes[0,0].set_ylim(0,60)\n",
    "sns.histplot(ax=axes[0,0], data=femaleAges)\n",
    "\n",
    "#female ages (with heart disease)\n",
    "axes[0,1].set_title('Female ages(with a heart disease)')\n",
    "axes[0,1].set_ylim(0,60)\n",
    "sns.histplot(ax=axes[0,1], data=femaleAgesWithDisease, color='orange')\n",
    "\n",
    "#male ages\n",
    "axes[1,0].set_title('Male ages')\n",
    "axes[1,0].set_ylim(0,120)\n",
    "sns.histplot(ax=axes[1,0], data=maleAges)\n",
    "\n",
    "#male ages (with heart disease)\n",
    "axes[1,1].set_title('Male ages(with a heart disease)')\n",
    "axes[1,1].set_ylim(0,120)\n",
    "sns.histplot(ax=axes[1,1], data=maleAgesWithDisease, color='orange')\n"
   ]
  },
  {
   "cell_type": "markdown",
   "metadata": {},
   "source": [
    "A majority of the female patients are in their fifties and sixties and apart from the youngest and oldest patient group the amount of female patients with heart disease is rather even across all age groups. Interestingly, 100% of the patients at age 55 seem to have heart disease.\n",
    "\n",
    "\n",
    "As for the male patiens the largest group of patients are between 55 and 60 with a rather even spread of patients with heart disease starting as early as 40 and another spike at 55.\n",
    "______________________\n",
    "\n",
    "### Chest pain\n",
    "\n",
    "In our dataset we have a column named 'chest_pain' which ranks the chest pain experienced (0 = typical angina, 1 = atypical angina, 2 = non-anginal pain,  3 = asymptomatic). We would like to see how many patients suffer from the different categories.\n"
   ]
  },
  {
   "cell_type": "code",
   "execution_count": 17,
   "metadata": {},
   "outputs": [
    {
     "data": {
      "text/html": [
       "<div>\n",
       "<style scoped>\n",
       "    .dataframe tbody tr th:only-of-type {\n",
       "        vertical-align: middle;\n",
       "    }\n",
       "\n",
       "    .dataframe tbody tr th {\n",
       "        vertical-align: top;\n",
       "    }\n",
       "\n",
       "    .dataframe thead th {\n",
       "        text-align: right;\n",
       "    }\n",
       "</style>\n",
       "<table border=\"1\" class=\"dataframe\">\n",
       "  <thead>\n",
       "    <tr style=\"text-align: right;\">\n",
       "      <th></th>\n",
       "      <th></th>\n",
       "      <th></th>\n",
       "      <th>Patient Count</th>\n",
       "    </tr>\n",
       "    <tr>\n",
       "      <th>Gender (0:Female, 1:Male)</th>\n",
       "      <th>Heart Disease Result</th>\n",
       "      <th>Chest Pain Type</th>\n",
       "      <th></th>\n",
       "    </tr>\n",
       "  </thead>\n",
       "  <tbody>\n",
       "    <tr>\n",
       "      <th rowspan=\"7\" valign=\"top\">0</th>\n",
       "      <th rowspan=\"3\" valign=\"top\">0</th>\n",
       "      <th>0</th>\n",
       "      <td>75</td>\n",
       "    </tr>\n",
       "    <tr>\n",
       "      <th>1</th>\n",
       "      <td>7</td>\n",
       "    </tr>\n",
       "    <tr>\n",
       "      <th>2</th>\n",
       "      <td>4</td>\n",
       "    </tr>\n",
       "    <tr>\n",
       "      <th rowspan=\"4\" valign=\"top\">1</th>\n",
       "      <th>0</th>\n",
       "      <td>58</td>\n",
       "    </tr>\n",
       "    <tr>\n",
       "      <th>1</th>\n",
       "      <td>50</td>\n",
       "    </tr>\n",
       "    <tr>\n",
       "      <th>2</th>\n",
       "      <td>105</td>\n",
       "    </tr>\n",
       "    <tr>\n",
       "      <th>3</th>\n",
       "      <td>13</td>\n",
       "    </tr>\n",
       "    <tr>\n",
       "      <th rowspan=\"8\" valign=\"top\">1</th>\n",
       "      <th rowspan=\"4\" valign=\"top\">0</th>\n",
       "      <th>0</th>\n",
       "      <td>300</td>\n",
       "    </tr>\n",
       "    <tr>\n",
       "      <th>1</th>\n",
       "      <td>26</td>\n",
       "    </tr>\n",
       "    <tr>\n",
       "      <th>2</th>\n",
       "      <td>61</td>\n",
       "    </tr>\n",
       "    <tr>\n",
       "      <th>3</th>\n",
       "      <td>26</td>\n",
       "    </tr>\n",
       "    <tr>\n",
       "      <th rowspan=\"4\" valign=\"top\">1</th>\n",
       "      <th>0</th>\n",
       "      <td>64</td>\n",
       "    </tr>\n",
       "    <tr>\n",
       "      <th>1</th>\n",
       "      <td>84</td>\n",
       "    </tr>\n",
       "    <tr>\n",
       "      <th>2</th>\n",
       "      <td>114</td>\n",
       "    </tr>\n",
       "    <tr>\n",
       "      <th>3</th>\n",
       "      <td>38</td>\n",
       "    </tr>\n",
       "  </tbody>\n",
       "</table>\n",
       "</div>"
      ],
      "text/plain": [
       "                                                                Patient Count\n",
       "Gender (0:Female, 1:Male) Heart Disease Result Chest Pain Type               \n",
       "0                         0                    0                           75\n",
       "                                               1                            7\n",
       "                                               2                            4\n",
       "                          1                    0                           58\n",
       "                                               1                           50\n",
       "                                               2                          105\n",
       "                                               3                           13\n",
       "1                         0                    0                          300\n",
       "                                               1                           26\n",
       "                                               2                           61\n",
       "                                               3                           26\n",
       "                          1                    0                           64\n",
       "                                               1                           84\n",
       "                                               2                          114\n",
       "                                               3                           38"
      ]
     },
     "execution_count": 17,
     "metadata": {},
     "output_type": "execute_result"
    }
   ],
   "source": [
    "chest_pain_dist = pd.DataFrame(data.groupby(by=['gender', 'target', 'chest_pain'], axis=0)['age'].count())\n",
    "chest_pain_dist.columns = ['Patient Count']\n",
    "\n",
    "chest_pain_dist.index.names = ['Gender (0:Female, 1:Male)', 'Heart Disease Result', 'Chest Pain Type']\n",
    "chest_pain_dist"
   ]
  },
  {
   "cell_type": "markdown",
   "metadata": {},
   "source": [
    "### Need to add an explanation to this part"
   ]
  },
  {
   "cell_type": "code",
   "execution_count": null,
   "metadata": {},
   "outputs": [],
   "source": []
  },
  {
   "cell_type": "markdown",
   "metadata": {},
   "source": [
    "### Resting blood pressure\n",
    "\n",
    "Next we are going to split the patients into groups using their resting blood pressure and see what groups are more prone to having a heart disease."
   ]
  },
  {
   "cell_type": "code",
   "execution_count": 18,
   "metadata": {
    "scrolled": true
   },
   "outputs": [
    {
     "data": {
      "text/plain": [
       "count    1025.000000\n",
       "mean      131.611707\n",
       "std        17.516718\n",
       "min        94.000000\n",
       "25%       120.000000\n",
       "50%       130.000000\n",
       "75%       140.000000\n",
       "max       200.000000\n",
       "Name: rest_bp, dtype: float64"
      ]
     },
     "execution_count": 18,
     "metadata": {},
     "output_type": "execute_result"
    }
   ],
   "source": [
    "data['rest_bp'].describe()"
   ]
  },
  {
   "cell_type": "markdown",
   "metadata": {},
   "source": [
    "__The groups are going to be:__\n",
    "\n",
    "* 94 - 120\n",
    "\n",
    "* 120 - 130\n",
    "\n",
    "* 130 - 140\n",
    "\n",
    "* 140 +"
   ]
  },
  {
   "cell_type": "code",
   "execution_count": 19,
   "metadata": {},
   "outputs": [
    {
     "data": {
      "text/html": [
       "<div>\n",
       "<style scoped>\n",
       "    .dataframe tbody tr th:only-of-type {\n",
       "        vertical-align: middle;\n",
       "    }\n",
       "\n",
       "    .dataframe tbody tr th {\n",
       "        vertical-align: top;\n",
       "    }\n",
       "\n",
       "    .dataframe thead th {\n",
       "        text-align: right;\n",
       "    }\n",
       "</style>\n",
       "<table border=\"1\" class=\"dataframe\">\n",
       "  <thead>\n",
       "    <tr style=\"text-align: right;\">\n",
       "      <th></th>\n",
       "      <th>target</th>\n",
       "    </tr>\n",
       "  </thead>\n",
       "  <tbody>\n",
       "    <tr>\n",
       "      <th>1</th>\n",
       "      <td>117</td>\n",
       "    </tr>\n",
       "    <tr>\n",
       "      <th>0</th>\n",
       "      <td>84</td>\n",
       "    </tr>\n",
       "  </tbody>\n",
       "</table>\n",
       "</div>"
      ],
      "text/plain": [
       "   target\n",
       "1     117\n",
       "0      84"
      ]
     },
     "execution_count": 19,
     "metadata": {},
     "output_type": "execute_result"
    }
   ],
   "source": [
    "restBP_94_120 = pd.DataFrame(data[(data['rest_bp'] >= 94.0) & (data['rest_bp'] < 120.0)]['target']\n",
    "                             .value_counts())\n",
    "restBP_94_120"
   ]
  },
  {
   "cell_type": "code",
   "execution_count": 20,
   "metadata": {},
   "outputs": [
    {
     "data": {
      "text/html": [
       "<div>\n",
       "<style scoped>\n",
       "    .dataframe tbody tr th:only-of-type {\n",
       "        vertical-align: middle;\n",
       "    }\n",
       "\n",
       "    .dataframe tbody tr th {\n",
       "        vertical-align: top;\n",
       "    }\n",
       "\n",
       "    .dataframe thead th {\n",
       "        text-align: right;\n",
       "    }\n",
       "</style>\n",
       "<table border=\"1\" class=\"dataframe\">\n",
       "  <thead>\n",
       "    <tr style=\"text-align: right;\">\n",
       "      <th></th>\n",
       "      <th>target</th>\n",
       "    </tr>\n",
       "  </thead>\n",
       "  <tbody>\n",
       "    <tr>\n",
       "      <th>1</th>\n",
       "      <td>128</td>\n",
       "    </tr>\n",
       "    <tr>\n",
       "      <th>0</th>\n",
       "      <td>128</td>\n",
       "    </tr>\n",
       "  </tbody>\n",
       "</table>\n",
       "</div>"
      ],
      "text/plain": [
       "   target\n",
       "1     128\n",
       "0     128"
      ]
     },
     "execution_count": 20,
     "metadata": {},
     "output_type": "execute_result"
    }
   ],
   "source": [
    "restBP_120_130 = pd.DataFrame(data[(data['rest_bp'] >= 120.0) & (data['rest_bp'] < 130.0)]['target']\n",
    "                             .value_counts())\n",
    "restBP_120_130"
   ]
  },
  {
   "cell_type": "code",
   "execution_count": 21,
   "metadata": {},
   "outputs": [
    {
     "data": {
      "text/html": [
       "<div>\n",
       "<style scoped>\n",
       "    .dataframe tbody tr th:only-of-type {\n",
       "        vertical-align: middle;\n",
       "    }\n",
       "\n",
       "    .dataframe tbody tr th {\n",
       "        vertical-align: top;\n",
       "    }\n",
       "\n",
       "    .dataframe thead th {\n",
       "        text-align: right;\n",
       "    }\n",
       "</style>\n",
       "<table border=\"1\" class=\"dataframe\">\n",
       "  <thead>\n",
       "    <tr style=\"text-align: right;\">\n",
       "      <th></th>\n",
       "      <th>target</th>\n",
       "    </tr>\n",
       "  </thead>\n",
       "  <tbody>\n",
       "    <tr>\n",
       "      <th>1</th>\n",
       "      <td>144</td>\n",
       "    </tr>\n",
       "    <tr>\n",
       "      <th>0</th>\n",
       "      <td>100</td>\n",
       "    </tr>\n",
       "  </tbody>\n",
       "</table>\n",
       "</div>"
      ],
      "text/plain": [
       "   target\n",
       "1     144\n",
       "0     100"
      ]
     },
     "execution_count": 21,
     "metadata": {},
     "output_type": "execute_result"
    }
   ],
   "source": [
    "restBP_130_140 = pd.DataFrame(data[(data['rest_bp'] >= 130) & (data['rest_bp'] < 140.0)]['target']\n",
    "                             .value_counts())\n",
    "restBP_130_140"
   ]
  },
  {
   "cell_type": "code",
   "execution_count": 22,
   "metadata": {},
   "outputs": [
    {
     "data": {
      "text/html": [
       "<div>\n",
       "<style scoped>\n",
       "    .dataframe tbody tr th:only-of-type {\n",
       "        vertical-align: middle;\n",
       "    }\n",
       "\n",
       "    .dataframe tbody tr th {\n",
       "        vertical-align: top;\n",
       "    }\n",
       "\n",
       "    .dataframe thead th {\n",
       "        text-align: right;\n",
       "    }\n",
       "</style>\n",
       "<table border=\"1\" class=\"dataframe\">\n",
       "  <thead>\n",
       "    <tr style=\"text-align: right;\">\n",
       "      <th></th>\n",
       "      <th>target</th>\n",
       "    </tr>\n",
       "  </thead>\n",
       "  <tbody>\n",
       "    <tr>\n",
       "      <th>0</th>\n",
       "      <td>187</td>\n",
       "    </tr>\n",
       "    <tr>\n",
       "      <th>1</th>\n",
       "      <td>137</td>\n",
       "    </tr>\n",
       "  </tbody>\n",
       "</table>\n",
       "</div>"
      ],
      "text/plain": [
       "   target\n",
       "0     187\n",
       "1     137"
      ]
     },
     "execution_count": 22,
     "metadata": {},
     "output_type": "execute_result"
    }
   ],
   "source": [
    "restBP_140_plus = pd.DataFrame(data[(data['rest_bp'] >= 140)]['target'].value_counts())\n",
    "restBP_140_plus"
   ]
  },
  {
   "cell_type": "markdown",
   "metadata": {},
   "source": [
    "### Add text about the above code. Maybe add plots? Same under"
   ]
  },
  {
   "cell_type": "code",
   "execution_count": null,
   "metadata": {},
   "outputs": [],
   "source": []
  },
  {
   "cell_type": "code",
   "execution_count": 23,
   "metadata": {},
   "outputs": [
    {
     "data": {
      "text/html": [
       "<div>\n",
       "<style scoped>\n",
       "    .dataframe tbody tr th:only-of-type {\n",
       "        vertical-align: middle;\n",
       "    }\n",
       "\n",
       "    .dataframe tbody tr th {\n",
       "        vertical-align: top;\n",
       "    }\n",
       "\n",
       "    .dataframe thead th {\n",
       "        text-align: right;\n",
       "    }\n",
       "</style>\n",
       "<table border=\"1\" class=\"dataframe\">\n",
       "  <thead>\n",
       "    <tr style=\"text-align: right;\">\n",
       "      <th></th>\n",
       "      <th>ex_angina</th>\n",
       "    </tr>\n",
       "  </thead>\n",
       "  <tbody>\n",
       "    <tr>\n",
       "      <th>0</th>\n",
       "      <td>680</td>\n",
       "    </tr>\n",
       "    <tr>\n",
       "      <th>1</th>\n",
       "      <td>345</td>\n",
       "    </tr>\n",
       "  </tbody>\n",
       "</table>\n",
       "</div>"
      ],
      "text/plain": [
       "   ex_angina\n",
       "0        680\n",
       "1        345"
      ]
     },
     "execution_count": 23,
     "metadata": {},
     "output_type": "execute_result"
    }
   ],
   "source": [
    "pd.DataFrame(data['ex_angina'].value_counts())"
   ]
  },
  {
   "cell_type": "code",
   "execution_count": 24,
   "metadata": {},
   "outputs": [
    {
     "data": {
      "text/html": [
       "<div>\n",
       "<style scoped>\n",
       "    .dataframe tbody tr th:only-of-type {\n",
       "        vertical-align: middle;\n",
       "    }\n",
       "\n",
       "    .dataframe tbody tr th {\n",
       "        vertical-align: top;\n",
       "    }\n",
       "\n",
       "    .dataframe thead th {\n",
       "        text-align: right;\n",
       "    }\n",
       "</style>\n",
       "<table border=\"1\" class=\"dataframe\">\n",
       "  <thead>\n",
       "    <tr style=\"text-align: right;\">\n",
       "      <th></th>\n",
       "      <th></th>\n",
       "      <th>People Count</th>\n",
       "    </tr>\n",
       "    <tr>\n",
       "      <th>Exc Angina(1:Yes, 0:No)</th>\n",
       "      <th>CAD Result</th>\n",
       "      <th></th>\n",
       "    </tr>\n",
       "  </thead>\n",
       "  <tbody>\n",
       "    <tr>\n",
       "      <th rowspan=\"2\" valign=\"top\">0</th>\n",
       "      <th>0</th>\n",
       "      <td>225</td>\n",
       "    </tr>\n",
       "    <tr>\n",
       "      <th>1</th>\n",
       "      <td>455</td>\n",
       "    </tr>\n",
       "    <tr>\n",
       "      <th rowspan=\"2\" valign=\"top\">1</th>\n",
       "      <th>0</th>\n",
       "      <td>274</td>\n",
       "    </tr>\n",
       "    <tr>\n",
       "      <th>1</th>\n",
       "      <td>71</td>\n",
       "    </tr>\n",
       "  </tbody>\n",
       "</table>\n",
       "</div>"
      ],
      "text/plain": [
       "                                    People Count\n",
       "Exc Angina(1:Yes, 0:No) CAD Result              \n",
       "0                       0                    225\n",
       "                        1                    455\n",
       "1                       0                    274\n",
       "                        1                     71"
      ]
     },
     "execution_count": 24,
     "metadata": {},
     "output_type": "execute_result"
    }
   ],
   "source": [
    "exc_angina_cad = pd.DataFrame(data.groupby(by=['ex_angina','target'],axis=0)['age'].count())\n",
    "exc_angina_cad.index.names = ['Exc Angina(1:Yes, 0:No)', 'CAD Result']\n",
    "exc_angina_cad.columns = ['People Count']\n",
    "exc_angina_cad"
   ]
  },
  {
   "cell_type": "code",
   "execution_count": null,
   "metadata": {},
   "outputs": [],
   "source": []
  },
  {
   "cell_type": "markdown",
   "metadata": {},
   "source": [
    "### Data correlation\n",
    "\n",
    "Now that we have had a look at different parts of the data let us check what correlations we have throughout the whole dataset."
   ]
  },
  {
   "cell_type": "code",
   "execution_count": 25,
   "metadata": {
    "scrolled": false
   },
   "outputs": [
    {
     "data": {
      "image/png": "[encoded data removed]",
      "text/plain": [
       "<Figure size 720x720 with 2 Axes>"
      ]
     },
     "metadata": {
      "needs_background": "light"
     },
     "output_type": "display_data"
    }
   ],
   "source": [
    "f, ax = plt.subplots(figsize=(10,10))\n",
    "sns.heatmap(data.corr(), annot=True, fmt='.1f')\n",
    "plt.show()"
   ]
  },
  {
   "cell_type": "code",
   "execution_count": 26,
   "metadata": {},
   "outputs": [
    {
     "data": {
      "text/plain": [
       "fst_bs            0.041164\n",
       "cholestrol        0.099966\n",
       "rest_ecg          0.134468\n",
       "rest_bp           0.138772\n",
       "age               0.229324\n",
       "gender            0.279501\n",
       "thal              0.337838\n",
       "slope             0.345512\n",
       "color_vsl         0.382085\n",
       "max_heart_rate    0.422895\n",
       "chest_pain        0.434854\n",
       "ex_angina         0.438029\n",
       "oldpeak           0.438441\n",
       "target            1.000000\n",
       "Name: target, dtype: float64"
      ]
     },
     "execution_count": 26,
     "metadata": {},
     "output_type": "execute_result"
    }
   ],
   "source": [
    "abs(data.corr()['target']).sort_values()"
   ]
  },
  {
   "cell_type": "markdown",
   "metadata": {},
   "source": [
    "Using a linear correlation we see that there is not really anything in the dataset that has a high correlation. The highest correlation is between chest pains and having a heart disease but even that is around the .5 ~ .6 area which is not very high. Then there is also the max heart rate and slope which is around the .4 area for people with a heart disease. So we may not have any one feature that will make or break our algorithms by the look of things."
   ]
  },
  {
   "cell_type": "markdown",
   "metadata": {},
   "source": [
    "## Machine Learning\n",
    "\n",
    "With the knowledge we have from the previous parts of this notebook, let us run some algorithms on the dataset and see if we can do some predictions.\n",
    "________________\n",
    "\n",
    "We start with importing a few things from the sklearn library that will do a lot of the work for us."
   ]
  },
  {
   "cell_type": "code",
   "execution_count": 27,
   "metadata": {
    "scrolled": true
   },
   "outputs": [],
   "source": [
    "from sklearn.linear_model import LinearRegression\n",
    "from sklearn.model_selection import train_test_split\n",
    "from sklearn.preprocessing import PolynomialFeatures, StandardScaler\n",
    "from sklearn.metrics import r2_score,mean_squared_error\n",
    "from sklearn.ensemble import RandomForestRegressor\n",
    "\n",
    "\n",
    "#wip stuff from the video: https://www.youtube.com/watch?v=iJ5c-XoHPFo\n",
    "from sklearn.preprocessing import StandardScaler\n",
    "from sklearn.preprocessing import MinMaxScaler\n",
    "from sklearn.pipeline import make_pipeline\n",
    "from sklearn.model_selection import KFold\n",
    "from sklearn.neighbors import KNeighborsRegressor\n",
    "from sklearn.metrics import mean_squared_error, r2_score\n",
    "from sklearn.model_selection import cross_val_predict\n",
    "from sklearn.linear_model import LinearRegression\n",
    "from math import sqrt\n",
    "\n",
    "#feature selection\n",
    "from sklearn.feature_selection import VarianceThreshold\n",
    "from sklearn.feature_selection import SelectKBest\n",
    "from sklearn.feature_selection import f_classif\n",
    "from sklearn.svm import SVC\n",
    "from sklearn.model_selection import StratifiedKFold\n",
    "from sklearn.feature_selection import RFECV\n",
    "from sklearn.datasets import make_classification\n",
    "from sklearn.feature_selection import SelectFromModel\n",
    "from sklearn.ensemble import ExtraTreesClassifier\n",
    "from sklearn.linear_model import LassoCV\n",
    "from mlxtend.feature_selection import SequentialFeatureSelector as SFS\n",
    "from sklearn.neighbors import KNeighborsClassifier\n",
    "from sklearn.pipeline import Pipeline"
   ]
  },
  {
   "cell_type": "markdown",
   "metadata": {},
   "source": [
    "We then pick our target variable. Since we are interested in predicting who has heart disease we look at 'target'.\n",
    "We also split the data into test and train sets and scale it."
   ]
  },
  {
   "cell_type": "markdown",
   "metadata": {},
   "source": [
    "### Pre-proccessing"
   ]
  },
  {
   "cell_type": "code",
   "execution_count": 28,
   "metadata": {
    "scrolled": true
   },
   "outputs": [
    {
     "data": {
      "text/plain": [
       "array([[-0.45833333,  1.        ,  1.        ,  0.01886792, -0.46118721,\n",
       "        -1.        , -1.        ,  0.63358779, -1.        , -0.74193548,\n",
       "         1.        ,  0.        ,  0.33333333],\n",
       "       [ 0.54166667, -1.        ,  0.33333333, -0.01886792, -0.30593607,\n",
       "        -1.        , -1.        ,  0.23664122, -1.        , -1.        ,\n",
       "         0.        , -0.5       ,  0.33333333],\n",
       "       [ 0.        ,  1.        ,  0.33333333, -0.32075472, -0.45205479,\n",
       "         1.        , -1.        ,  0.55725191, -1.        , -1.        ,\n",
       "         1.        ,  0.5       ,  0.33333333],\n",
       "       [ 0.20833333, -1.        , -1.        , -0.88679245, -0.44292237,\n",
       "        -1.        , -1.        , -0.22137405, -1.        , -0.67741935,\n",
       "         0.        , -1.        ,  0.33333333],\n",
       "       [ 0.        ,  1.        , -1.        , -0.45283019, -0.28767123,\n",
       "        -1.        ,  0.        , -0.63358779,  1.        , -0.35483871,\n",
       "         0.        ,  0.        ,  1.        ]])"
      ]
     },
     "execution_count": 28,
     "metadata": {},
     "output_type": "execute_result"
    }
   ],
   "source": [
    "# We are looking at target\n",
    "x = data.drop(columns='target')\n",
    "y = data.target\n",
    "\n",
    "# Split the data into train and test, 20% of the data will be used to test our model\n",
    "x_train,x_test,y_train,y_test = train_test_split(x,y,test_size = 0.2, random_state = 0)\n",
    "\n",
    "# Scale the data\n",
    "sc = MinMaxScaler(feature_range=(-1,1))\n",
    "x_train = sc.fit_transform(x_train)\n",
    "x_test = sc.fit_transform(x_test)\n",
    "\n",
    "x_train[:5]"
   ]
  },
  {
   "cell_type": "markdown",
   "metadata": {},
   "source": [
    "## Feature Selection"
   ]
  },
  {
   "cell_type": "markdown",
   "metadata": {},
   "source": [
    "### Low Variance"
   ]
  },
  {
   "cell_type": "code",
   "execution_count": 29,
   "metadata": {},
   "outputs": [],
   "source": [
    "# Remove low variance features\n",
    "#vt = VarianceThreshold(threshold=(.9 * (1 - .9)))\n",
    "#x_train = vt.fit_transform(x_train)\n",
    "#x_test = vt.fit_transform(x_test)\n",
    "\n",
    "#x_train[:5]"
   ]
  },
  {
   "cell_type": "markdown",
   "metadata": {},
   "source": [
    "We can see that the cholestrol feature has been removed from the data set because of it's low variance."
   ]
  },
  {
   "cell_type": "markdown",
   "metadata": {},
   "source": [
    "### Univariate feature selection"
   ]
  },
  {
   "cell_type": "code",
   "execution_count": 30,
   "metadata": {},
   "outputs": [],
   "source": [
    "# Remove all but the highest k scoring features. in this case 10\n",
    "#x_train_new = SelectKBest(f_classif, k=10).fit_transform(x_train, y_train)\n",
    "\n",
    "#print(x_train[:1])\n",
    "#print(x_train_new[:1])"
   ]
  },
  {
   "cell_type": "markdown",
   "metadata": {},
   "source": [
    "We can see that the features that scored the lowest was cholestrol, rest_bp and rest_ecg."
   ]
  },
  {
   "cell_type": "markdown",
   "metadata": {},
   "source": [
    "### Recursive feature elimination"
   ]
  },
  {
   "cell_type": "code",
   "execution_count": 31,
   "metadata": {},
   "outputs": [
    {
     "name": "stdout",
     "output_type": "stream",
     "text": [
      "Optimal number of features : 10\n"
     ]
    },
    {
     "data": {
      "image/png": "[encoded data removed]",
      "text/plain": [
       "<Figure size 432x288 with 1 Axes>"
      ]
     },
     "metadata": {
      "needs_background": "light"
     },
     "output_type": "display_data"
    }
   ],
   "source": [
    "# Create the RFE object and compute a cross-validated score.\n",
    "svc = SVC(kernel=\"linear\")\n",
    "# The \"accuracy\" scoring is proportional to the number of correct\n",
    "# classifications\n",
    "min_features_to_select = 1  # Minimum number of features to consider\n",
    "rfecv = RFECV(estimator=svc, step=1, cv=StratifiedKFold(2),\n",
    "              scoring='accuracy',\n",
    "              min_features_to_select=min_features_to_select)\n",
    "rfecv.fit(x_train, y_train)\n",
    "\n",
    "print(\"Optimal number of features : %d\" % rfecv.n_features_)\n",
    "\n",
    "# Plot number of features VS. cross-validation scores\n",
    "plt.figure()\n",
    "plt.xlabel(\"Number of features selected\")\n",
    "plt.ylabel(\"Cross validation score (nb of correct classifications)\")\n",
    "plt.plot(range(min_features_to_select,\n",
    "               len(rfecv.grid_scores_) + min_features_to_select),\n",
    "         rfecv.grid_scores_)\n",
    "plt.show()"
   ]
  },
  {
   "cell_type": "markdown",
   "metadata": {},
   "source": [
    "We can see that the optimal number of features for our dataset is 10. But 6 is not far off, bringing the model down to 6 features for performance is something worth considering"
   ]
  },
  {
   "cell_type": "markdown",
   "metadata": {},
   "source": [
    "### Sequential Feature Selection"
   ]
  },
  {
   "cell_type": "code",
   "execution_count": 32,
   "metadata": {},
   "outputs": [],
   "source": [
    "# Initializing a simple classifier, might want something better\n",
    "knn = KNeighborsClassifier(n_neighbors=4)"
   ]
  },
  {
   "cell_type": "markdown",
   "metadata": {},
   "source": [
    "#### Forward Feature Selection"
   ]
  },
  {
   "cell_type": "code",
   "execution_count": 33,
   "metadata": {},
   "outputs": [
    {
     "name": "stderr",
     "output_type": "stream",
     "text": [
      "[Parallel(n_jobs=1)]: Using backend SequentialBackend with 1 concurrent workers.\n",
      "[Parallel(n_jobs=1)]: Done   1 out of   1 | elapsed:    0.0s remaining:    0.0s\n",
      "[Parallel(n_jobs=1)]: Done  13 out of  13 | elapsed:    0.1s finished\n",
      "\n",
      "[2021-03-10 03:46:34] Features: 1/10 -- score: 0.7951219512195122[Parallel(n_jobs=1)]: Using backend SequentialBackend with 1 concurrent workers.\n",
      "[Parallel(n_jobs=1)]: Done   1 out of   1 | elapsed:    0.0s remaining:    0.0s\n",
      "[Parallel(n_jobs=1)]: Done  12 out of  12 | elapsed:    0.1s finished\n",
      "\n",
      "[2021-03-10 03:46:34] Features: 2/10 -- score: 0.9451219512195121[Parallel(n_jobs=1)]: Using backend SequentialBackend with 1 concurrent workers.\n",
      "[Parallel(n_jobs=1)]: Done   1 out of   1 | elapsed:    0.0s remaining:    0.0s\n",
      "[Parallel(n_jobs=1)]: Done  11 out of  11 | elapsed:    0.1s finished\n",
      "\n",
      "[2021-03-10 03:46:34] Features: 3/10 -- score: 0.9585365853658536[Parallel(n_jobs=1)]: Using backend SequentialBackend with 1 concurrent workers.\n",
      "[Parallel(n_jobs=1)]: Done   1 out of   1 | elapsed:    0.0s remaining:    0.0s\n",
      "[Parallel(n_jobs=1)]: Done  10 out of  10 | elapsed:    0.1s finished\n",
      "\n",
      "[2021-03-10 03:46:34] Features: 4/10 -- score: 0.9621951219512195[Parallel(n_jobs=1)]: Using backend SequentialBackend with 1 concurrent workers.\n",
      "[Parallel(n_jobs=1)]: Done   1 out of   1 | elapsed:    0.0s remaining:    0.0s\n",
      "[Parallel(n_jobs=1)]: Done   9 out of   9 | elapsed:    0.1s finished\n",
      "\n",
      "[2021-03-10 03:46:35] Features: 5/10 -- score: 0.9670731707317073[Parallel(n_jobs=1)]: Using backend SequentialBackend with 1 concurrent workers.\n",
      "[Parallel(n_jobs=1)]: Done   1 out of   1 | elapsed:    0.0s remaining:    0.0s\n",
      "[Parallel(n_jobs=1)]: Done   8 out of   8 | elapsed:    0.1s finished\n",
      "\n",
      "[2021-03-10 03:46:35] Features: 6/10 -- score: 0.9780487804878049[Parallel(n_jobs=1)]: Using backend SequentialBackend with 1 concurrent workers.\n",
      "[Parallel(n_jobs=1)]: Done   1 out of   1 | elapsed:    0.0s remaining:    0.0s\n",
      "[Parallel(n_jobs=1)]: Done   7 out of   7 | elapsed:    0.0s finished\n",
      "\n",
      "[2021-03-10 03:46:35] Features: 7/10 -- score: 0.9804878048780488[Parallel(n_jobs=1)]: Using backend SequentialBackend with 1 concurrent workers.\n",
      "[Parallel(n_jobs=1)]: Done   1 out of   1 | elapsed:    0.0s remaining:    0.0s\n",
      "[Parallel(n_jobs=1)]: Done   6 out of   6 | elapsed:    0.0s finished\n",
      "\n",
      "[2021-03-10 03:46:35] Features: 8/10 -- score: 0.9792682926829268[Parallel(n_jobs=1)]: Using backend SequentialBackend with 1 concurrent workers.\n",
      "[Parallel(n_jobs=1)]: Done   1 out of   1 | elapsed:    0.0s remaining:    0.0s\n",
      "[Parallel(n_jobs=1)]: Done   5 out of   5 | elapsed:    0.0s finished\n",
      "\n",
      "[2021-03-10 03:46:35] Features: 9/10 -- score: 0.9804878048780488[Parallel(n_jobs=1)]: Using backend SequentialBackend with 1 concurrent workers.\n",
      "[Parallel(n_jobs=1)]: Done   1 out of   1 | elapsed:    0.0s remaining:    0.0s\n",
      "[Parallel(n_jobs=1)]: Done   4 out of   4 | elapsed:    0.0s finished\n",
      "\n",
      "[2021-03-10 03:46:35] Features: 10/10 -- score: 0.974390243902439"
     ]
    }
   ],
   "source": [
    "sfs1 = SFS(knn, \n",
    "           k_features=10, \n",
    "           forward=True, \n",
    "           floating=False, \n",
    "           verbose=2,\n",
    "           scoring='accuracy',\n",
    "           cv=0)\n",
    "\n",
    "sfs1 = sfs1.fit(x_train, y_train)"
   ]
  },
  {
   "cell_type": "code",
   "execution_count": 34,
   "metadata": {},
   "outputs": [
    {
     "name": "stderr",
     "output_type": "stream",
     "text": [
      "[Parallel(n_jobs=1)]: Using backend SequentialBackend with 1 concurrent workers.\n",
      "[Parallel(n_jobs=1)]: Done   1 out of   1 | elapsed:    0.0s remaining:    0.0s\n",
      "[Parallel(n_jobs=1)]: Done  13 out of  13 | elapsed:    0.1s finished\n",
      "\n",
      "[2021-03-10 03:46:35] Features: 1/10 -- score: 0.7951219512195122[Parallel(n_jobs=1)]: Using backend SequentialBackend with 1 concurrent workers.\n",
      "[Parallel(n_jobs=1)]: Done   1 out of   1 | elapsed:    0.0s remaining:    0.0s\n",
      "[Parallel(n_jobs=1)]: Done  12 out of  12 | elapsed:    0.1s finished\n",
      "\n",
      "[2021-03-10 03:46:36] Features: 2/10 -- score: 0.9451219512195121[Parallel(n_jobs=1)]: Using backend SequentialBackend with 1 concurrent workers.\n",
      "[Parallel(n_jobs=1)]: Done   1 out of   1 | elapsed:    0.0s remaining:    0.0s\n",
      "[Parallel(n_jobs=1)]: Done  11 out of  11 | elapsed:    0.1s finished\n",
      "\n",
      "[2021-03-10 03:46:36] Features: 3/10 -- score: 0.9585365853658536[Parallel(n_jobs=1)]: Using backend SequentialBackend with 1 concurrent workers.\n",
      "[Parallel(n_jobs=1)]: Done   1 out of   1 | elapsed:    0.0s remaining:    0.0s\n",
      "[Parallel(n_jobs=1)]: Done  10 out of  10 | elapsed:    0.1s finished\n",
      "\n",
      "[2021-03-10 03:46:36] Features: 4/10 -- score: 0.9621951219512195[Parallel(n_jobs=1)]: Using backend SequentialBackend with 1 concurrent workers.\n",
      "[Parallel(n_jobs=1)]: Done   1 out of   1 | elapsed:    0.0s remaining:    0.0s\n",
      "[Parallel(n_jobs=1)]: Done   9 out of   9 | elapsed:    0.1s finished\n",
      "\n",
      "[2021-03-10 03:46:36] Features: 5/10 -- score: 0.9670731707317073[Parallel(n_jobs=1)]: Using backend SequentialBackend with 1 concurrent workers.\n",
      "[Parallel(n_jobs=1)]: Done   1 out of   1 | elapsed:    0.0s remaining:    0.0s\n",
      "[Parallel(n_jobs=1)]: Done   8 out of   8 | elapsed:    0.1s finished\n",
      "\n",
      "[2021-03-10 03:46:36] Features: 6/10 -- score: 0.9780487804878049[Parallel(n_jobs=1)]: Using backend SequentialBackend with 1 concurrent workers.\n",
      "[Parallel(n_jobs=1)]: Done   1 out of   1 | elapsed:    0.0s remaining:    0.0s\n",
      "[Parallel(n_jobs=1)]: Done   7 out of   7 | elapsed:    0.0s finished\n",
      "\n",
      "[2021-03-10 03:46:36] Features: 7/10 -- score: 0.9804878048780488[Parallel(n_jobs=1)]: Using backend SequentialBackend with 1 concurrent workers.\n",
      "[Parallel(n_jobs=1)]: Done   1 out of   1 | elapsed:    0.0s remaining:    0.0s\n",
      "[Parallel(n_jobs=1)]: Done   6 out of   6 | elapsed:    0.0s finished\n",
      "\n",
      "[2021-03-10 03:46:37] Features: 8/10 -- score: 0.9792682926829268[Parallel(n_jobs=1)]: Using backend SequentialBackend with 1 concurrent workers.\n",
      "[Parallel(n_jobs=1)]: Done   1 out of   1 | elapsed:    0.0s remaining:    0.0s\n",
      "[Parallel(n_jobs=1)]: Done   5 out of   5 | elapsed:    0.0s finished\n",
      "\n",
      "[2021-03-10 03:46:37] Features: 9/10 -- score: 0.9804878048780488[Parallel(n_jobs=1)]: Using backend SequentialBackend with 1 concurrent workers.\n",
      "[Parallel(n_jobs=1)]: Done   1 out of   1 | elapsed:    0.0s remaining:    0.0s\n",
      "[Parallel(n_jobs=1)]: Done   4 out of   4 | elapsed:    0.0s finished\n",
      "\n",
      "[2021-03-10 03:46:37] Features: 10/10 -- score: 0.974390243902439"
     ]
    },
    {
     "data": {
      "text/plain": [
       "{1: {'feature_idx': (4,),\n",
       "  'cv_scores': array([0.79512195]),\n",
       "  'avg_score': 0.7951219512195122,\n",
       "  'feature_names': ('cholestrol',)},\n",
       " 2: {'feature_idx': (4, 7),\n",
       "  'cv_scores': array([0.94512195]),\n",
       "  'avg_score': 0.9451219512195121,\n",
       "  'feature_names': ('cholestrol', 'max_heart_rate')},\n",
       " 3: {'feature_idx': (1, 4, 7),\n",
       "  'cv_scores': array([0.95853659]),\n",
       "  'avg_score': 0.9585365853658536,\n",
       "  'feature_names': ('gender', 'cholestrol', 'max_heart_rate')},\n",
       " 4: {'feature_idx': (1, 4, 7, 11),\n",
       "  'cv_scores': array([0.96219512]),\n",
       "  'avg_score': 0.9621951219512195,\n",
       "  'feature_names': ('gender', 'cholestrol', 'max_heart_rate', 'color_vsl')},\n",
       " 5: {'feature_idx': (1, 4, 7, 8, 11),\n",
       "  'cv_scores': array([0.96707317]),\n",
       "  'avg_score': 0.9670731707317073,\n",
       "  'feature_names': ('gender',\n",
       "   'cholestrol',\n",
       "   'max_heart_rate',\n",
       "   'ex_angina',\n",
       "   'color_vsl')},\n",
       " 6: {'feature_idx': (1, 4, 7, 8, 10, 11),\n",
       "  'cv_scores': array([0.97804878]),\n",
       "  'avg_score': 0.9780487804878049,\n",
       "  'feature_names': ('gender',\n",
       "   'cholestrol',\n",
       "   'max_heart_rate',\n",
       "   'ex_angina',\n",
       "   'slope',\n",
       "   'color_vsl')},\n",
       " 7: {'feature_idx': (1, 4, 5, 7, 8, 10, 11),\n",
       "  'cv_scores': array([0.9804878]),\n",
       "  'avg_score': 0.9804878048780488,\n",
       "  'feature_names': ('gender',\n",
       "   'cholestrol',\n",
       "   'fst_bs',\n",
       "   'max_heart_rate',\n",
       "   'ex_angina',\n",
       "   'slope',\n",
       "   'color_vsl')},\n",
       " 8: {'feature_idx': (0, 1, 4, 5, 7, 8, 10, 11),\n",
       "  'cv_scores': array([0.97926829]),\n",
       "  'avg_score': 0.9792682926829268,\n",
       "  'feature_names': ('age',\n",
       "   'gender',\n",
       "   'cholestrol',\n",
       "   'fst_bs',\n",
       "   'max_heart_rate',\n",
       "   'ex_angina',\n",
       "   'slope',\n",
       "   'color_vsl')},\n",
       " 9: {'feature_idx': (0, 1, 3, 4, 5, 7, 8, 10, 11),\n",
       "  'cv_scores': array([0.9804878]),\n",
       "  'avg_score': 0.9804878048780488,\n",
       "  'feature_names': ('age',\n",
       "   'gender',\n",
       "   'rest_bp',\n",
       "   'cholestrol',\n",
       "   'fst_bs',\n",
       "   'max_heart_rate',\n",
       "   'ex_angina',\n",
       "   'slope',\n",
       "   'color_vsl')},\n",
       " 10: {'feature_idx': (0, 1, 3, 4, 5, 7, 8, 9, 10, 11),\n",
       "  'cv_scores': array([0.97439024]),\n",
       "  'avg_score': 0.974390243902439,\n",
       "  'feature_names': ('age',\n",
       "   'gender',\n",
       "   'rest_bp',\n",
       "   'cholestrol',\n",
       "   'fst_bs',\n",
       "   'max_heart_rate',\n",
       "   'ex_angina',\n",
       "   'oldpeak',\n",
       "   'slope',\n",
       "   'color_vsl')}}"
      ]
     },
     "execution_count": 34,
     "metadata": {},
     "output_type": "execute_result"
    }
   ],
   "source": [
    "feature_names = ('age', 'gender', 'chest_pain', 'rest_bp', 'cholestrol', 'fst_bs', 'rest_ecg', 'max_heart_rate', 'ex_angina', 'oldpeak', 'slope', 'color_vsl', 'thal')\n",
    "sfs1 = sfs1.fit(x_train, y_train, custom_feature_names=feature_names)\n",
    "sfs1.subsets_"
   ]
  },
  {
   "cell_type": "markdown",
   "metadata": {},
   "source": [
    "#### Backward Feature Selection"
   ]
  },
  {
   "cell_type": "code",
   "execution_count": 35,
   "metadata": {},
   "outputs": [
    {
     "name": "stderr",
     "output_type": "stream",
     "text": [
      "[Parallel(n_jobs=1)]: Using backend SequentialBackend with 1 concurrent workers.\n",
      "[Parallel(n_jobs=1)]: Done   1 out of   1 | elapsed:    0.0s remaining:    0.0s\n",
      "[Parallel(n_jobs=1)]: Done  13 out of  13 | elapsed:    0.2s finished\n",
      "\n",
      "[2021-03-10 03:46:37] Features: 12/10 -- score: 0.9719512195121951[Parallel(n_jobs=1)]: Using backend SequentialBackend with 1 concurrent workers.\n",
      "[Parallel(n_jobs=1)]: Done   1 out of   1 | elapsed:    0.0s remaining:    0.0s\n",
      "[Parallel(n_jobs=1)]: Done  12 out of  12 | elapsed:    0.2s finished\n",
      "\n",
      "[2021-03-10 03:46:37] Features: 11/10 -- score: 0.973170731707317[Parallel(n_jobs=1)]: Using backend SequentialBackend with 1 concurrent workers.\n",
      "[Parallel(n_jobs=1)]: Done   1 out of   1 | elapsed:    0.0s remaining:    0.0s\n",
      "[Parallel(n_jobs=1)]: Done  11 out of  11 | elapsed:    0.1s finished\n",
      "\n",
      "[2021-03-10 03:46:38] Features: 10/10 -- score: 0.973170731707317"
     ]
    }
   ],
   "source": [
    "sfs2 = SFS(knn, \n",
    "           k_features=10, \n",
    "           forward=False, \n",
    "           floating=False, \n",
    "           verbose=2,\n",
    "           scoring='accuracy',\n",
    "           cv=0)\n",
    "\n",
    "sfs2 = sfs2.fit(x_train, y_train)"
   ]
  },
  {
   "cell_type": "code",
   "execution_count": 36,
   "metadata": {},
   "outputs": [
    {
     "name": "stderr",
     "output_type": "stream",
     "text": [
      "[Parallel(n_jobs=1)]: Using backend SequentialBackend with 1 concurrent workers.\n",
      "[Parallel(n_jobs=1)]: Done   1 out of   1 | elapsed:    0.0s remaining:    0.0s\n",
      "[Parallel(n_jobs=1)]: Done  13 out of  13 | elapsed:    0.2s finished\n",
      "\n",
      "[2021-03-10 03:46:38] Features: 12/10 -- score: 0.9719512195121951[Parallel(n_jobs=1)]: Using backend SequentialBackend with 1 concurrent workers.\n",
      "[Parallel(n_jobs=1)]: Done   1 out of   1 | elapsed:    0.0s remaining:    0.0s\n",
      "[Parallel(n_jobs=1)]: Done  12 out of  12 | elapsed:    0.2s finished\n",
      "\n",
      "[2021-03-10 03:46:38] Features: 11/10 -- score: 0.973170731707317[Parallel(n_jobs=1)]: Using backend SequentialBackend with 1 concurrent workers.\n",
      "[Parallel(n_jobs=1)]: Done   1 out of   1 | elapsed:    0.0s remaining:    0.0s\n",
      "[Parallel(n_jobs=1)]: Done  11 out of  11 | elapsed:    0.1s finished\n",
      "\n",
      "[2021-03-10 03:46:38] Features: 10/10 -- score: 0.973170731707317"
     ]
    },
    {
     "data": {
      "text/plain": [
       "{13: {'feature_idx': (0, 1, 2, 3, 4, 5, 6, 7, 8, 9, 10, 11, 12),\n",
       "  'cv_scores': array([0.96341463]),\n",
       "  'avg_score': 0.9634146341463414,\n",
       "  'feature_names': ('age',\n",
       "   'gender',\n",
       "   'chest_pain',\n",
       "   'rest_bp',\n",
       "   'cholestrol',\n",
       "   'fst_bs',\n",
       "   'rest_ecg',\n",
       "   'max_heart_rate',\n",
       "   'ex_angina',\n",
       "   'oldpeak',\n",
       "   'slope',\n",
       "   'color_vsl',\n",
       "   'thal')},\n",
       " 12: {'feature_idx': (0, 1, 3, 4, 5, 6, 7, 8, 9, 10, 11, 12),\n",
       "  'cv_scores': array([0.97195122]),\n",
       "  'avg_score': 0.9719512195121951,\n",
       "  'feature_names': ('age',\n",
       "   'gender',\n",
       "   'rest_bp',\n",
       "   'cholestrol',\n",
       "   'fst_bs',\n",
       "   'rest_ecg',\n",
       "   'max_heart_rate',\n",
       "   'ex_angina',\n",
       "   'oldpeak',\n",
       "   'slope',\n",
       "   'color_vsl',\n",
       "   'thal')},\n",
       " 11: {'feature_idx': (0, 1, 3, 4, 5, 6, 8, 9, 10, 11, 12),\n",
       "  'cv_scores': array([0.97317073]),\n",
       "  'avg_score': 0.973170731707317,\n",
       "  'feature_names': ('age',\n",
       "   'gender',\n",
       "   'rest_bp',\n",
       "   'cholestrol',\n",
       "   'fst_bs',\n",
       "   'rest_ecg',\n",
       "   'ex_angina',\n",
       "   'oldpeak',\n",
       "   'slope',\n",
       "   'color_vsl',\n",
       "   'thal')},\n",
       " 10: {'feature_idx': (0, 1, 3, 4, 5, 8, 9, 10, 11, 12),\n",
       "  'cv_scores': array([0.97317073]),\n",
       "  'avg_score': 0.973170731707317,\n",
       "  'feature_names': ('age',\n",
       "   'gender',\n",
       "   'rest_bp',\n",
       "   'cholestrol',\n",
       "   'fst_bs',\n",
       "   'ex_angina',\n",
       "   'oldpeak',\n",
       "   'slope',\n",
       "   'color_vsl',\n",
       "   'thal')}}"
      ]
     },
     "execution_count": 36,
     "metadata": {},
     "output_type": "execute_result"
    }
   ],
   "source": [
    "feature_names = ('age', 'gender', 'chest_pain', 'rest_bp', 'cholestrol', 'fst_bs', 'rest_ecg', 'max_heart_rate', 'ex_angina', 'oldpeak', 'slope', 'color_vsl', 'thal')\n",
    "sfs2 = sfs2.fit(x_train, y_train, custom_feature_names=feature_names)\n",
    "sfs2.subsets_"
   ]
  },
  {
   "cell_type": "markdown",
   "metadata": {},
   "source": [
    "The differences ended up being thal and max_heart_rate."
   ]
  },
  {
   "cell_type": "code",
   "execution_count": 37,
   "metadata": {},
   "outputs": [
    {
     "name": "stdout",
     "output_type": "stream",
     "text": [
      "Foward Selection: 0.974390243902439\n",
      "Backward Selection: 0.973170731707317\n"
     ]
    }
   ],
   "source": [
    "print('Foward Selection:', sfs1.k_score_)\n",
    "print('Backward Selection:', sfs2.k_score_)"
   ]
  },
  {
   "cell_type": "markdown",
   "metadata": {},
   "source": [
    "Forward selection proved to be slightly better on this model."
   ]
  },
  {
   "cell_type": "markdown",
   "metadata": {},
   "source": [
    "### Feature Selection as part of a pipeline using KNN"
   ]
  },
  {
   "cell_type": "code",
   "execution_count": 38,
   "metadata": {
    "scrolled": true
   },
   "outputs": [
    {
     "name": "stdout",
     "output_type": "stream",
     "text": [
      "RMSE: 0.32\n",
      "R_squared: 0.58\n"
     ]
    }
   ],
   "source": [
    "cv = KFold(n_splits=10, random_state=0, shuffle=True)\n",
    "classifier_pipeline = make_pipeline(StandardScaler(), KNeighborsRegressor(n_neighbors=10))\n",
    "y_pred = cross_val_predict(classifier_pipeline, x_train, y_train, cv=cv)#need to add our y values, not done yet\n",
    "\n",
    "print(\"RMSE: \" + str(round(sqrt(mean_squared_error(y_train, y_pred)),2)))\n",
    "print(\"R_squared: \" + str(round(r2_score(y_train,y_pred),2)))"
   ]
  },
  {
   "cell_type": "code",
   "execution_count": 63,
   "metadata": {},
   "outputs": [
    {
     "name": "stdout",
     "output_type": "stream",
     "text": [
      "RMSE: 0.31\n",
      "R_squared: 0.62\n"
     ]
    }
   ],
   "source": [
    "cv = KFold(n_splits=10, random_state=0, shuffle=True)\n",
    "classifier_pipeline = make_pipeline(StandardScaler(), KNeighborsRegressor(n_neighbors=10))\n",
    "y_pred = cross_val_predict(classifier_pipeline, x, y, cv=cv)#need to add our y values, not done yet\n",
    "\n",
    "print(\"RMSE: \" + str(round(sqrt(mean_squared_error(y, y_pred)),2)))\n",
    "print(\"R_squared: \" + str(round(r2_score(y,y_pred),2)))"
   ]
  },
  {
   "cell_type": "markdown",
   "metadata": {},
   "source": [
    "## Predictions"
   ]
  },
  {
   "cell_type": "code",
   "execution_count": 229,
   "metadata": {},
   "outputs": [],
   "source": [
    "from sklearn.metrics import r2_score,mean_squared_error\n",
    "from sklearn.metrics import plot_confusion_matrix\n",
    "\n",
    "# Drop the features suggested by the FFS\n",
    "X = data.drop(['target','chest_pain','rest_ecg', 'thal'], axis = 1)\n",
    "Y = data.target\n",
    "\n",
    "X_train,X_test,Y_train,Y_test = train_test_split(X,Y, random_state = 0)"
   ]
  },
  {
   "cell_type": "markdown",
   "metadata": {},
   "source": [
    "### KNN"
   ]
  },
  {
   "cell_type": "code",
   "execution_count": 233,
   "metadata": {},
   "outputs": [
    {
     "data": {
      "image/png": "[encoded data removed]",
      "text/plain": [
       "<Figure size 432x288 with 2 Axes>"
      ]
     },
     "metadata": {
      "needs_background": "light"
     },
     "output_type": "display_data"
    },
    {
     "name": "stdout",
     "output_type": "stream",
     "text": [
      "MSE train data: 0.010, MSE test data: 0.062\n",
      "R2 train data: 0.958, R2 test data: 0.751\n",
      "Accuracy: 0.9377431906614786\n"
     ]
    }
   ],
   "source": [
    "from sklearn.neighbors import KNeighborsClassifier\n",
    "\n",
    "neigh = KNeighborsClassifier(n_neighbors=2)\n",
    "neigh.fit(X_train, Y_train)\n",
    "neigh_train_pred = neigh.predict(X_train)\n",
    "neigh_test_pred = neigh.predict(X_test)\n",
    "\n",
    "# confusion matrix plot\n",
    "matrix = plot_confusion_matrix(neigh, X_test, Y_test,\n",
    "                                 cmap=plt.cm.Blues,\n",
    "                                 normalize='true')\n",
    "plt.title('Confusion matrix for our classifier')\n",
    "plt.show(matrix)\n",
    "plt.show()\n",
    "\n",
    "print('MSE train data: %.3f, MSE test data: %.3f' % (\n",
    "mean_squared_error(Y_train, neigh_train_pred),\n",
    "mean_squared_error(Y_test, neigh_test_pred)))\n",
    "print('R2 train data: %.3f, R2 test data: %.3f' % (\n",
    "r2_score(Y_train, neigh_train_pred),\n",
    "r2_score(Y_test, neigh_test_pred)))\n",
    "print('Accuracy:', neigh.score(X_test,Y_test))"
   ]
  },
  {
   "cell_type": "markdown",
   "metadata": {},
   "source": [
    "### Naive Bayes"
   ]
  },
  {
   "cell_type": "code",
   "execution_count": 234,
   "metadata": {},
   "outputs": [
    {
     "data": {
      "image/png": "[encoded data removed]",
      "text/plain": [
       "<Figure size 432x288 with 2 Axes>"
      ]
     },
     "metadata": {
      "needs_background": "light"
     },
     "output_type": "display_data"
    },
    {
     "name": "stdout",
     "output_type": "stream",
     "text": [
      "MSE train data: 0.204, MSE test data: 0.183\n",
      "R2 train data: 0.182, R2 test data: 0.267\n",
      "Accuracy: 0.8171206225680934\n"
     ]
    }
   ],
   "source": [
    "from sklearn.naive_bayes import GaussianNB\n",
    "\n",
    "gnb = GaussianNB()\n",
    "gnb.fit(X_train, Y_train)\n",
    "gnb_train_pred = gnb.predict(X_train)\n",
    "gnb_test_pred = gnb.predict(X_test)\n",
    "\n",
    "# confusion matrix plot\n",
    "matrix = plot_confusion_matrix(gnb, X_test, Y_test,\n",
    "                                 cmap=plt.cm.Blues,\n",
    "                                 normalize='true')\n",
    "plt.title('Confusion matrix for our classifier')\n",
    "plt.show(matrix)\n",
    "plt.show()\n",
    "\n",
    "print('MSE train data: %.3f, MSE test data: %.3f' % (\n",
    "mean_squared_error(Y_train, gnb_train_pred),\n",
    "mean_squared_error(Y_test, gnb_test_pred)))\n",
    "print('R2 train data: %.3f, R2 test data: %.3f' % (\n",
    "r2_score(Y_train, gnb_train_pred),\n",
    "r2_score(Y_test, gnb_test_pred)))\n",
    "print('Accuracy:', gnb.score(X_test,Y_test))"
   ]
  },
  {
   "cell_type": "markdown",
   "metadata": {},
   "source": [
    "### Random Forest"
   ]
  },
  {
   "cell_type": "code",
   "execution_count": 241,
   "metadata": {},
   "outputs": [
    {
     "data": {
      "image/png": "[encoded data removed]",
      "text/plain": [
       "<Figure size 432x288 with 2 Axes>"
      ]
     },
     "metadata": {
      "needs_background": "light"
     },
     "output_type": "display_data"
    },
    {
     "name": "stdout",
     "output_type": "stream",
     "text": [
      "MSE train data: 0.033, MSE test data: 0.051\n",
      "R2 train data: 0.870, R2 test data: 0.797\n",
      "Accuracy: 0.9494163424124513\n"
     ]
    }
   ],
   "source": [
    "# trees getting perfect score SMILERS\n",
    "\n",
    "from sklearn.ensemble import RandomForestClassifier\n",
    "\n",
    "forest = RandomForestClassifier(n_estimators = 200, max_depth = 6, criterion = 'gini')\n",
    "forest.fit(X_train,Y_train)\n",
    "forest_train_pred = forest.predict(X_train)\n",
    "forest_test_pred = forest.predict(X_test)\n",
    "\n",
    "# confusion matrix plot\n",
    "matrix = plot_confusion_matrix(forest, X_test, Y_test,\n",
    "                                 cmap=plt.cm.Blues,\n",
    "                                 normalize='true')\n",
    "plt.title('Confusion matrix for our classifier')\n",
    "plt.show(matrix)\n",
    "plt.show()\n",
    "\n",
    "print('MSE train data: %.3f, MSE test data: %.3f' % (\n",
    "mean_squared_error(Y_train, forest_train_pred),\n",
    "mean_squared_error(Y_test, forest_test_pred)))\n",
    "print('R2 train data: %.3f, R2 test data: %.3f' % (\n",
    "r2_score(Y_train, forest_train_pred),\n",
    "r2_score(Y_test, forest_test_pred)))\n",
    "print('Accuracy:', forest.score(X_test,Y_test))"
   ]
  },
  {
   "cell_type": "markdown",
   "metadata": {},
   "source": [
    "### Polynomial Regression"
   ]
  },
  {
   "cell_type": "code",
   "execution_count": 185,
   "metadata": {},
   "outputs": [
    {
     "name": "stdout",
     "output_type": "stream",
     "text": [
      "MSE train data: 0.105, MSE test data: 0.117\n",
      "R2 train data: 0.578, R2 test data: 0.532\n",
      "Accuracy: 0.5316317560532107\n"
     ]
    }
   ],
   "source": [
    "# not a classifier?\n",
    "\n",
    "from sklearn.preprocessing import PolynomialFeatures\n",
    "\n",
    "quad = PolynomialFeatures (degree = 2)\n",
    "x_quad = quad.fit_transform(X)\n",
    "\n",
    "quad_X_train, quad_X_test, quad_Y_train, quad_Y_test = train_test_split(x_quad,Y, random_state = 0)\n",
    "\n",
    "plr = LinearRegression().fit(quad_X_train, quad_Y_train)\n",
    "\n",
    "Y_train_pred = plr.predict(quad_X_train)\n",
    "Y_test_pred = plr.predict(quad_X_test)\n",
    "\n",
    "print('MSE train data: %.3f, MSE test data: %.3f' % (\n",
    "mean_squared_error(quad_Y_train, Y_train_pred),\n",
    "mean_squared_error(quad_Y_test, Y_test_pred)))\n",
    "print('R2 train data: %.3f, R2 test data: %.3f' % (\n",
    "r2_score(quad_Y_train, Y_train_pred),\n",
    "r2_score(quad_Y_test, Y_test_pred)))\n",
    "print('Accuracy:', plr.score(quad_X_test, quad_Y_test))"
   ]
  },
  {
   "cell_type": "code",
   "execution_count": null,
   "metadata": {},
   "outputs": [],
   "source": []
  },
  {
   "cell_type": "markdown",
   "metadata": {},
   "source": [
    "### Linear Regression"
   ]
  },
  {
   "cell_type": "code",
   "execution_count": 184,
   "metadata": {},
   "outputs": [
    {
     "name": "stdout",
     "output_type": "stream",
     "text": [
      "MSE train data: 0.142, MSE test data: 0.126\n",
      "R2 train data: 0.433, R2 test data: 0.494\n",
      "Accuracy: 0.4939152429215604\n"
     ]
    }
   ],
   "source": [
    "# not a classifier?\n",
    "from sklearn.linear_model import LinearRegression\n",
    "\n",
    "lr = LinearRegression()\n",
    "lr.fit(X_train, Y_train)\n",
    "lr_train_pred = lr.predict(X_train)\n",
    "lr_test_pred = lr.predict(X_test)\n",
    "\n",
    "print('MSE train data: %.3f, MSE test data: %.3f' % (\n",
    "mean_squared_error(Y_train, lr_train_pred),\n",
    "mean_squared_error(Y_test, lr_test_pred)))\n",
    "print('R2 train data: %.3f, R2 test data: %.3f' % (\n",
    "r2_score(Y_train, lr_train_pred),\n",
    "r2_score(Y_test, lr_test_pred)))\n",
    "print('Accuracy:', lr.score(X_test,Y_test))"
   ]
  },
  {
   "cell_type": "code",
   "execution_count": null,
   "metadata": {},
   "outputs": [],
   "source": []
  },
  {
   "cell_type": "markdown",
   "metadata": {},
   "source": [
    "### Gradient Boosting Trees"
   ]
  },
  {
   "cell_type": "code",
   "execution_count": 236,
   "metadata": {},
   "outputs": [
    {
     "data": {
      "image/png": "[encoded data removed]",
      "text/plain": [
       "<Figure size 432x288 with 2 Axes>"
      ]
     },
     "metadata": {
      "needs_background": "light"
     },
     "output_type": "display_data"
    },
    {
     "name": "stdout",
     "output_type": "stream",
     "text": [
      "MSE train data: 0.016, MSE test data: 0.031\n",
      "R2 train data: 0.937, R2 test data: 0.875\n",
      "Accuracy: 0.9688715953307393\n"
     ]
    }
   ],
   "source": [
    "from sklearn.datasets import make_regression\n",
    "from sklearn.ensemble import GradientBoostingClassifier\n",
    "\n",
    "reg = GradientBoostingClassifier(random_state=0)\n",
    "reg.fit(X_train, Y_train)\n",
    "reg_train_pred = reg.predict(X_train)\n",
    "reg_test_pred = reg.predict(X_test)\n",
    "\n",
    "# confusion matrix plot\n",
    "matrix = plot_confusion_matrix(reg, X_test, Y_test,\n",
    "                                 cmap=plt.cm.Blues,\n",
    "                                 normalize='true')\n",
    "plt.title('Confusion matrix for our classifier')\n",
    "plt.show(matrix)\n",
    "plt.show()\n",
    "\n",
    "print('MSE train data: %.3f, MSE test data: %.3f' % (\n",
    "mean_squared_error(Y_train, reg_train_pred),\n",
    "mean_squared_error(Y_test, reg_test_pred)))\n",
    "print('R2 train data: %.3f, R2 test data: %.3f' % (\n",
    "r2_score(Y_train, reg_train_pred),\n",
    "r2_score(Y_test, reg_test_pred)))\n",
    "print('Accuracy:', reg.score(X_test,Y_test))"
   ]
  },
  {
   "cell_type": "markdown",
   "metadata": {},
   "source": [
    "### Elastic Net"
   ]
  },
  {
   "cell_type": "code",
   "execution_count": 181,
   "metadata": {},
   "outputs": [
    {
     "name": "stdout",
     "output_type": "stream",
     "text": [
      "MSE train data: 0.142, MSE test data: 0.126\n",
      "R2 train data: 0.430, R2 test data: 0.496\n",
      "Accuracy: 0.4955770442146995\n"
     ]
    }
   ],
   "source": [
    "# not a classifier?\n",
    "\n",
    "from sklearn.linear_model import ElasticNetCV\n",
    "\n",
    "net = ElasticNetCV(cv=5, random_state=0)\n",
    "net.fit(X_train, Y_train)\n",
    "net_train_pred = net.predict(X_train)\n",
    "net_test_pred = net.predict(X_test)\n",
    "\n",
    "print('MSE train data: %.3f, MSE test data: %.3f' % (\n",
    "mean_squared_error(Y_train, net_train_pred),\n",
    "mean_squared_error(Y_test, net_test_pred)))\n",
    "print('R2 train data: %.3f, R2 test data: %.3f' % (\n",
    "r2_score(Y_train, net_train_pred),\n",
    "r2_score(Y_test, net_test_pred)))\n",
    "print('Accuracy:', net.score(X_test,Y_test))"
   ]
  },
  {
   "cell_type": "code",
   "execution_count": null,
   "metadata": {},
   "outputs": [],
   "source": []
  },
  {
   "cell_type": "markdown",
   "metadata": {},
   "source": [
    "### MLP"
   ]
  },
  {
   "cell_type": "code",
   "execution_count": 237,
   "metadata": {},
   "outputs": [
    {
     "data": {
      "image/png": "[encoded data removed]",
      "text/plain": [
       "<Figure size 432x288 with 2 Axes>"
      ]
     },
     "metadata": {
      "needs_background": "light"
     },
     "output_type": "display_data"
    },
    {
     "name": "stdout",
     "output_type": "stream",
     "text": [
      "MSE train data: 0.193, MSE test data: 0.179\n",
      "R2 train data: 0.229, R2 test data: 0.283\n",
      "Accuracy: 0.8210116731517509\n"
     ]
    }
   ],
   "source": [
    "from sklearn.neural_network import MLPClassifier\n",
    "\n",
    "clf = MLPClassifier(random_state=0, max_iter=300)\n",
    "clf.fit(X_train, Y_train)\n",
    "clf_train_pred = clf.predict(X_train)\n",
    "clf_test_pred = clf.predict(X_test)\n",
    "\n",
    "# confusion matrix plot\n",
    "matrix = plot_confusion_matrix(clf, X_test, Y_test,\n",
    "                                 cmap=plt.cm.Blues,\n",
    "                                 normalize='true')\n",
    "plt.title('Confusion matrix for our classifier')\n",
    "plt.show(matrix)\n",
    "plt.show()\n",
    "\n",
    "print('MSE train data: %.3f, MSE test data: %.3f' % (\n",
    "mean_squared_error(Y_train, clf_train_pred),\n",
    "mean_squared_error(Y_test, clf_test_pred)))\n",
    "print('R2 train data: %.3f, R2 test data: %.3f' % (\n",
    "r2_score(Y_train, clf_train_pred),\n",
    "r2_score(Y_test, clf_test_pred)))\n",
    "print('Accuracy:', clf.score(X_test,Y_test))"
   ]
  },
  {
   "cell_type": "code",
   "execution_count": 243,
   "metadata": {},
   "outputs": [
    {
     "data": {
      "image/png": "[encoded data removed]",
      "text/plain": [
       "<Figure size 432x288 with 2 Axes>"
      ]
     },
     "metadata": {
      "needs_background": "light"
     },
     "output_type": "display_data"
    },
    {
     "name": "stdout",
     "output_type": "stream",
     "text": [
      "MSE train data: 0.064, MSE test data: 0.058\n",
      "R2 train data: 0.745, R2 test data: 0.766\n",
      "Accuracy: 0.9416342412451362\n"
     ]
    }
   ],
   "source": [
    "from sklearn.tree import DecisionTreeClassifier\n",
    "\n",
    "dtc = DecisionTreeClassifier(random_state=0, max_depth=6)\n",
    "dtc.fit(X_train, Y_train)\n",
    "dtc_train_pred = dtc.predict(X_train)\n",
    "dtc_test_pred = dtc.predict(X_test)\n",
    "\n",
    "#confusion matrix plot\n",
    "matrix = plot_confusion_matrix(dtc, X_test, Y_test,\n",
    "                                 cmap=plt.cm.Blues,\n",
    "                                 normalize='true')\n",
    "plt.title('Confusion matrix for our classifier')\n",
    "plt.show(matrix)\n",
    "plt.show()\n",
    "\n",
    "print('MSE train data: %.3f, MSE test data: %.3f' % (\n",
    "mean_squared_error(Y_train, dtc_train_pred),\n",
    "mean_squared_error(Y_test, dtc_test_pred)))\n",
    "print('R2 train data: %.3f, R2 test data: %.3f' % (\n",
    "r2_score(Y_train, dtc_train_pred),\n",
    "r2_score(Y_test, dtc_test_pred)))\n",
    "print('Accuracy:', dtc.score(X_test,Y_test))"
   ]
  },
  {
   "cell_type": "markdown",
   "metadata": {},
   "source": [
    "# Above this line, trying to do things from video"
   ]
  },
  {
   "cell_type": "markdown",
   "metadata": {},
   "source": [
    "We would like to try and predict if a patient has a heart disease or not, so we drop the binary \"target\" column (0 = no disease and 1 = has disease) from the main dataset and put the rest of the features inside the x-axis. Then we put the droped column in the y-axsis.\n",
    "\n",
    "Following this we make use of the train_test_split functions from the sklearn library. This splits all the data into smaller pieces and slots them into either a test set or a training set. We are using a 20/70 split which means that 70% of the data is used for training and 20% is used for testing the algorithms."
   ]
  },
  {
   "cell_type": "code",
   "execution_count": null,
   "metadata": {},
   "outputs": [],
   "source": [
    "x = data.drop(['target'], axis = 1)\n",
    "y = data.target\n",
    "\n",
    "x_train,x_test,y_train,y_test = train_test_split(x, y, test_size = 0.2, random_state = 0)"
   ]
  },
  {
   "cell_type": "code",
   "execution_count": null,
   "metadata": {},
   "outputs": [],
   "source": [
    "# remove the '#' for any of the variables you wish to have a look at\n",
    "\n",
    "#x_test[:10]\n",
    "x_train[:10]\n",
    "#y_test[:10]\n",
    "#y_train[:10]"
   ]
  },
  {
   "cell_type": "markdown",
   "metadata": {},
   "source": [
    "At this point we still need to do one more thing before we can run our algorithms on the data. We need to scale it. As you can see in the chest_pain column for example there is a ranking of 0-3 (0 = no chest pains, 3 = a lot of chest pain) but at the cholestrol column we have a number indicating the patients cholesterol measurement in mg/dl. So we need to scale everything to more similar ranges."
   ]
  },
  {
   "cell_type": "code",
   "execution_count": null,
   "metadata": {},
   "outputs": [],
   "source": [
    "sc = StandardScaler()\n",
    "x_train = sc.fit_transform(x_train)\n",
    "x_test = sc.transform(x_test)"
   ]
  },
  {
   "cell_type": "code",
   "execution_count": null,
   "metadata": {},
   "outputs": [],
   "source": [
    "# remove the '#' for any of the variables you wish to have a look at\n",
    "\n",
    "#x_test[:10]\n",
    "x_train[:10]"
   ]
  },
  {
   "cell_type": "markdown",
   "metadata": {},
   "source": [
    "As you can see in the array above, it looks a fair bit different from the previous array but every column is now scaled down to be between -1 and 1.\n",
    "\n",
    "_________________________________\n",
    "Now let us run an algorithm on the data."
   ]
  },
  {
   "cell_type": "code",
   "execution_count": null,
   "metadata": {},
   "outputs": [],
   "source": [
    "lr = LinearRegression().fit(x_train,y_train)\n",
    "\n",
    "y_train_pred = lr.predict(x_train)\n",
    "y_test_pred = lr.predict(x_test)\n",
    "\n",
    "print(lr.score(x_test,y_test))"
   ]
  },
  {
   "cell_type": "code",
   "execution_count": null,
   "metadata": {},
   "outputs": [],
   "source": [
    "data.var()"
   ]
  },
  {
   "cell_type": "markdown",
   "metadata": {},
   "source": [
    "add sequential feature selection"
   ]
  },
  {
   "cell_type": "code",
   "execution_count": null,
   "metadata": {},
   "outputs": [],
   "source": []
  },
  {
   "cell_type": "code",
   "execution_count": null,
   "metadata": {},
   "outputs": [],
   "source": []
  },
  {
   "cell_type": "code",
   "execution_count": null,
   "metadata": {},
   "outputs": [],
   "source": []
  },
  {
   "cell_type": "code",
   "execution_count": null,
   "metadata": {},
   "outputs": [],
   "source": [
    "X = data.drop(['target', 'cholestrol','fst_bs'], axis = 1)\n",
    "Y = data.target\n",
    "\n",
    "\n",
    "quad = PolynomialFeatures (degree = 3)\n",
    "x_quad = quad.fit_transform(X)\n",
    "\n",
    "X_train,X_test,Y_train,Y_test = train_test_split(x_quad, Y, test_size = 0.2, random_state = 0)\n",
    "\n",
    "plr = LinearRegression().fit(X_train,Y_train)\n",
    "\n",
    "Y_train_pred = plr.predict(X_train)\n",
    "Y_test_pred = plr.predict(X_test)\n",
    "\n",
    "print(plr.score(X_test,Y_test))"
   ]
  },
  {
   "cell_type": "code",
   "execution_count": null,
   "metadata": {},
   "outputs": [],
   "source": [
    "forest = RandomForestRegressor(n_estimators = 100,\n",
    "                              criterion = 'mse',\n",
    "                              random_state = 1,\n",
    "                              n_jobs = -1)\n",
    "forest.fit(x_train,y_train)\n",
    "forest_train_pred = forest.predict(x_train)\n",
    "forest_test_pred = forest.predict(x_test)\n",
    "\n",
    "print('MSE train data: %.3f, MSE test data: %.3f' % (\n",
    "mean_squared_error(y_train,forest_train_pred),\n",
    "mean_squared_error(y_test,forest_test_pred)))\n",
    "print('R2 train data: %.3f, R2 test data: %.3f' % (\n",
    "r2_score(y_train,forest_train_pred),\n",
    "r2_score(y_test,forest_test_pred)))"
   ]
  },
  {
   "cell_type": "code",
   "execution_count": null,
   "metadata": {},
   "outputs": [],
   "source": [
    "from sklearn.ensemble import RandomForestClassifier\n",
    "rf = RandomForestClassifier(n_estimators = 100, random_state = 1)\n",
    "rf.fit(x_train, y_train)\n",
    "\n",
    "acc = rf.score(x_test,y_test)*100\n",
    "print(\"Random Forest Algorithm Accuracy Score : {:.2f}%\".format(acc))"
   ]
  },
  {
   "cell_type": "code",
   "execution_count": null,
   "metadata": {},
   "outputs": [],
   "source": [
    "from sklearn.neighbors import KNeighborsClassifier\n",
    "knn = KNeighborsClassifier(n_neighbors = 2)  # n_neighbors means k\n",
    "knn.fit(x_train, y_train)\n",
    "prediction = knn.predict(x_test)\n",
    "\n",
    "print(\"{} NN Score: {:.2f}%\".format(2, knn.score(x_test, y_test)*100))"
   ]
  },
  {
   "cell_type": "markdown",
   "metadata": {},
   "source": [
    "# DONT OLD GO CODE"
   ]
  },
  {
   "cell_type": "code",
   "execution_count": null,
   "metadata": {},
   "outputs": [],
   "source": []
  },
  {
   "cell_type": "code",
   "execution_count": null,
   "metadata": {},
   "outputs": [],
   "source": []
  },
  {
   "cell_type": "code",
   "execution_count": null,
   "metadata": {},
   "outputs": [],
   "source": []
  },
  {
   "cell_type": "code",
   "execution_count": null,
   "metadata": {
    "scrolled": true
   },
   "outputs": [],
   "source": [
    "#Count the records for major vessel categories\n",
    "data['ca'].value_counts()"
   ]
  },
  {
   "cell_type": "code",
   "execution_count": null,
   "metadata": {},
   "outputs": [],
   "source": [
    "#Count the CAD and Non-CAD records for every major vessel category\n",
    "pd.DataFrame(data.groupby(['ca','target'])['target'].count())"
   ]
  },
  {
   "cell_type": "code",
   "execution_count": null,
   "metadata": {},
   "outputs": [],
   "source": [
    "#Count the records for thal categories\n",
    "data['thal'].value_counts()"
   ]
  },
  {
   "cell_type": "code",
   "execution_count": null,
   "metadata": {},
   "outputs": [],
   "source": [
    "#Count the CAD and Non-CAD records for every thal category\n",
    "pd.DataFrame(data.groupby(['thal','target'])['target'].count())"
   ]
  },
  {
   "cell_type": "code",
   "execution_count": null,
   "metadata": {},
   "outputs": [],
   "source": [
    "#Low correlation are fbs, chol and restecg, trestbps to an extent. \n",
    "#Might drop these because of noise.\n",
    "data.corr()['target'].sort_values()"
   ]
  },
  {
   "cell_type": "markdown",
   "metadata": {},
   "source": [
    "# Exploratory Data Analysis"
   ]
  },
  {
   "cell_type": "code",
   "execution_count": null,
   "metadata": {},
   "outputs": [],
   "source": [
    "#How many people of age group 29-48 have heart disease?"
   ]
  },
  {
   "cell_type": "code",
   "execution_count": null,
   "metadata": {},
   "outputs": [],
   "source": [
    "young = pd.concat([data[(data['age'] >= 29.0) & (data['age'] < 48.0)][['age','target']].groupby(by='target',axis=0).count(),\n",
    "           pd.DataFrame({'CAD_State':['Non-CAD','CAD']})],axis=1)\n",
    "p=sns.barplot(data = young, y=\"age\", x=\"CAD_State\",edgecolor=(0,0,0), linewidth=2, palette =\"Dark2\")\n",
    "p.set_title(\"Heart Disease Result of people from age group 29 - 48\")\n",
    "p.axes.xaxis.label.set_text(\"Heart Disease Result\")\n",
    "p.axes.yaxis.label.set_text(\"Number of people\")"
   ]
  },
  {
   "cell_type": "code",
   "execution_count": null,
   "metadata": {},
   "outputs": [],
   "source": [
    "#How many people of age group 48-56 have heart disease?"
   ]
  },
  {
   "cell_type": "code",
   "execution_count": null,
   "metadata": {},
   "outputs": [],
   "source": [
    "middle = pd.concat([data[(data['age'] >= 48.0) & (data['age'] < 56.0)][['age','target']].groupby(by='target',axis=0).count(),\n",
    "           pd.DataFrame({'CAD_State':['Non-CAD','CAD']})],axis=1)\n",
    "p=sns.barplot(data = middle, y=\"age\", x=\"CAD_State\",edgecolor=(0,0,0), linewidth=2, palette =\"Dark2\")\n",
    "p.set_title(\"Heart Disease Result of people from age group 48 - 56\")\n",
    "p.axes.xaxis.label.set_text(\"Heart Disease Result\")\n",
    "p.axes.yaxis.label.set_text(\"Number of people\")"
   ]
  },
  {
   "cell_type": "code",
   "execution_count": null,
   "metadata": {},
   "outputs": [],
   "source": [
    "#How many people of age group 56-77 have heart disease?"
   ]
  },
  {
   "cell_type": "code",
   "execution_count": null,
   "metadata": {},
   "outputs": [],
   "source": [
    "old = pd.concat([data[(data['age'] >= 56.0)][['age','target']].groupby(by='target',axis=0).count(),\n",
    "           pd.DataFrame({'CAD_State':['Non-CAD','CAD']})],axis=1)\n",
    "p=sns.barplot(data = old, y=\"age\", x=\"CAD_State\",edgecolor=(0,0,0), linewidth=2, palette =\"Dark2\")\n",
    "p.set_title(\"Heart Disease Result of people from age group 56 - 77\")\n",
    "p.axes.xaxis.label.set_text(\"Heart Disease Result\")\n",
    "p.axes.yaxis.label.set_text(\"Number of people\")"
   ]
  },
  {
   "cell_type": "code",
   "execution_count": null,
   "metadata": {},
   "outputs": [],
   "source": [
    "#How many males and females have heart disease?"
   ]
  },
  {
   "cell_type": "code",
   "execution_count": null,
   "metadata": {},
   "outputs": [],
   "source": [
    "p = sns.countplot(data = data, x=\"target\", hue=\"sex\", edgecolor=(0,0,0), linewidth=2, palette =\"Dark2\")\n",
    "p.set_title(\"Heart Disease gender split\")\n",
    "leg = p.get_legend()\n",
    "leg.set_title(\"Sex\")\n",
    "labs = leg.texts\n",
    "labs[0].set_text(\"Male\")\n",
    "labs[1].set_text(\"Female\")\n",
    "leg.get_title().set_color('black')\n",
    "p.axes.xaxis.label.set_text(\"CAD and Non-CAD states\")\n",
    "p.axes.yaxis.label.set_text(\"Number of people\")"
   ]
  },
  {
   "cell_type": "code",
   "execution_count": null,
   "metadata": {},
   "outputs": [],
   "source": [
    "#How many patients suffered from various CHEST PAINS?"
   ]
  },
  {
   "cell_type": "code",
   "execution_count": null,
   "metadata": {},
   "outputs": [],
   "source": [
    "p = sns.countplot(data = data, x=\"target\", hue=\"cp\", edgecolor=(0,0,0), linewidth=2, palette =\"Dark2\")\n",
    "p.set_title(\"Chest Pain Patient Split\")\n",
    "leg = p.get_legend()\n",
    "leg.set_title(\"Chest Pain\")\n",
    "labs = leg.texts\n",
    "labs[0].set_text(\"typical angina\")\n",
    "labs[1].set_text(\"atypical angina\")\n",
    "labs[2].set_text(\"non-anginal pain\")\n",
    "labs[3].set_text(\"asymptomatic\")\n",
    "leg.get_title().set_color('black')\n",
    "p.axes.xaxis.label.set_text(\"CAD and Non-CAD states\")\n",
    "p.axes.yaxis.label.set_text(\"Number of people\")"
   ]
  },
  {
   "cell_type": "code",
   "execution_count": null,
   "metadata": {},
   "outputs": [],
   "source": [
    "#Does high blood pressure at rest corresponds to a CAD?"
   ]
  },
  {
   "cell_type": "code",
   "execution_count": null,
   "metadata": {},
   "outputs": [],
   "source": [
    "data['trestbps'].describe()"
   ]
  },
  {
   "cell_type": "code",
   "execution_count": null,
   "metadata": {},
   "outputs": [],
   "source": [
    "#BP Group 1: 94-120"
   ]
  },
  {
   "cell_type": "code",
   "execution_count": null,
   "metadata": {},
   "outputs": [],
   "source": [
    "rest_bp_94_120 = pd.concat([data[(data['trestbps'] >= 94.0) & (data['trestbps'] < 120.0)][['trestbps','target']].groupby(by='target',axis=0).count(),\n",
    "           pd.DataFrame({'CAD_State':['Non-CAD','CAD']})],axis=1)\n",
    "p=sns.barplot(data = rest_bp_94_120, y=\"trestbps\", x=\"CAD_State\",edgecolor=(0,0,0), linewidth=2, palette =\"Dark2\")\n",
    "p.set_title(\"Heart Disease Result of people from age group 48 - 56\")\n",
    "p.axes.xaxis.label.set_text(\"Heart Disease Result\")\n",
    "p.axes.yaxis.label.set_text(\"Number of people\")"
   ]
  },
  {
   "cell_type": "code",
   "execution_count": null,
   "metadata": {},
   "outputs": [],
   "source": [
    "#BP Group 2: 120-130"
   ]
  },
  {
   "cell_type": "code",
   "execution_count": null,
   "metadata": {},
   "outputs": [],
   "source": []
  },
  {
   "cell_type": "code",
   "execution_count": null,
   "metadata": {},
   "outputs": [],
   "source": [
    "#BP Group 3: 130-140"
   ]
  },
  {
   "cell_type": "code",
   "execution_count": null,
   "metadata": {},
   "outputs": [],
   "source": []
  },
  {
   "cell_type": "code",
   "execution_count": null,
   "metadata": {},
   "outputs": [],
   "source": [
    "#BP Group 4: 140+"
   ]
  },
  {
   "cell_type": "code",
   "execution_count": null,
   "metadata": {},
   "outputs": [],
   "source": [
    "rest_bp_140_and_up = pd.concat([data[(data['trestbps'] >= 140.0)][['trestbps','target']].groupby(by='target',axis=0).count(),\n",
    "           pd.DataFrame({'CAD_State':['Non-CAD','CAD']})],axis=1)\n",
    "p=sns.barplot(data = rest_bp_140_and_up, y=\"trestbps\", x=\"CAD_State\",edgecolor=(0,0,0), linewidth=2, palette =\"Dark2\")\n",
    "p.set_title(\"Heart Disease Result of people from age group 56 - 77\")\n",
    "p.axes.xaxis.label.set_text(\"Heart Disease Result\")\n",
    "p.axes.yaxis.label.set_text(\"Number of people\")"
   ]
  },
  {
   "cell_type": "code",
   "execution_count": null,
   "metadata": {},
   "outputs": [],
   "source": []
  }
 ],
 "metadata": {
  "kernelspec": {
   "display_name": "Python 3",
   "language": "python",
   "name": "python3"
  },
  "language_info": {
   "codemirror_mode": {
    "name": "ipython",
    "version": 3
   },
   "file_extension": ".py",
   "mimetype": "text/x-python",
   "name": "python",
   "nbconvert_exporter": "python",
   "pygments_lexer": "ipython3",
   "version": "3.8.5"
  }
 },
 "nbformat": 4,
 "nbformat_minor": 4
}
